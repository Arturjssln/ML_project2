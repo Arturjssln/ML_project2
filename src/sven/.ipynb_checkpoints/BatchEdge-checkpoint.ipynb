{
 "cells": [
  {
   "cell_type": "markdown",
   "metadata": {},
   "source": [
    "# Import packages"
   ]
  },
  {
   "cell_type": "code",
   "execution_count": 1,
   "metadata": {},
   "outputs": [],
   "source": [
    "%matplotlib inline\n",
    "import matplotlib.image as mpimg\n",
    "import numpy as np\n",
    "import matplotlib.pyplot as plt\n",
    "import os,sys\n",
    "from PIL import Image\n",
    "sys.path.append(\"..\")\n",
    "from utils import *\n",
    "\n",
    "import cv2"
   ]
  },
  {
   "cell_type": "markdown",
   "metadata": {},
   "source": [
    "# Helpers functions"
   ]
  },
  {
   "cell_type": "code",
   "execution_count": 2,
   "metadata": {},
   "outputs": [],
   "source": [
    "# Helper functions\n",
    "\n",
    "def load_image(infilename):\n",
    "    data = mpimg.imread(infilename)\n",
    "    return data\n",
    "\n",
    "def img_float_to_uint8(img):\n",
    "    rimg = img - np.min(img)\n",
    "    rimg = (rimg / np.max(rimg) * 255).round().astype(np.uint8)\n",
    "    return rimg\n",
    "\n",
    "# Concatenate an image and its groundtruth\n",
    "def concatenate_images(img, gt_img):\n",
    "    nChannels = len(gt_img.shape)\n",
    "    w = gt_img.shape[0]\n",
    "    h = gt_img.shape[1]\n",
    "    if nChannels == 3:\n",
    "        cimg = np.concatenate((img, gt_img), axis=1)\n",
    "    else:\n",
    "        gt_img_3c = np.zeros((w, h, 3), dtype=np.uint8)\n",
    "        gt_img8 = img_float_to_uint8(gt_img)          \n",
    "        gt_img_3c[:,:,0] = gt_img8\n",
    "        gt_img_3c[:,:,1] = gt_img8\n",
    "        gt_img_3c[:,:,2] = gt_img8\n",
    "        img8 = img_float_to_uint8(img)\n",
    "        cimg = np.concatenate((img8, gt_img_3c), axis=1)\n",
    "    return cimg\n",
    "\n",
    "def img_crop(im, w, h):\n",
    "    list_patches = []\n",
    "    imgwidth = im.shape[0]\n",
    "    imgheight = im.shape[1]\n",
    "    is_2d = len(im.shape) < 3\n",
    "    for i in range(0,imgheight,h):\n",
    "        for j in range(0,imgwidth,w):\n",
    "            if is_2d:\n",
    "                im_patch = im[j:j+w, i:i+h]\n",
    "            else:\n",
    "                im_patch = im[j:j+w, i:i+h, :]\n",
    "            list_patches.append(im_patch)\n",
    "    return list_patches"
   ]
  },
  {
   "cell_type": "markdown",
   "metadata": {},
   "source": [
    "# Load images"
   ]
  },
  {
   "cell_type": "code",
   "execution_count": 3,
   "metadata": {},
   "outputs": [
    {
     "name": "stdout",
     "output_type": "stream",
     "text": [
      "Loading 20 images\n",
      "Loading 20 images\n"
     ]
    }
   ],
   "source": [
    "root_dir = \"../../data/training/\"\n",
    "\n",
    "image_dir = root_dir + \"images/\"\n",
    "\n",
    "files = os.listdir(image_dir)\n",
    "n = min(20, len(files)) #load max 5 images\n",
    "\n",
    "print(\"Loading \" + str(n) + \" images\")\n",
    "imgs = [load_image(image_dir + files[i]) for i in range(n)]\n",
    "\n",
    "gt_dir = root_dir + \"groundtruth/\"\n",
    "print(\"Loading \" + str(n) + \" images\")\n",
    "gt_imgs = [load_image(gt_dir + files[i]) for i in range(n)]\n",
    "n_train = 3 #use 3 images for training"
   ]
  },
  {
   "cell_type": "markdown",
   "metadata": {},
   "source": [
    "# Info"
   ]
  },
  {
   "cell_type": "code",
   "execution_count": null,
   "metadata": {},
   "outputs": [],
   "source": [
    "print('Image size = ' + str(imgs[0].shape[0]) + ',' + str(imgs[0].shape[1]))\n",
    "cimg = concatenate_images(imgs[0], gt_imgs[0])\n",
    "fig1 = plt.figure(figsize=(20, 20))\n",
    "plt.title('Image and groundtruth comparaison')\n",
    "plt.imshow(cimg, cmap='Greys_r')"
   ]
  },
  {
   "cell_type": "markdown",
   "metadata": {},
   "source": [
    "# Shows patches"
   ]
  },
  {
   "cell_type": "code",
   "execution_count": 6,
   "metadata": {},
   "outputs": [],
   "source": [
    "# Extract patches from input images\n",
    "patch_size = 16 # each patch is 16*16 pixels\n",
    "\n",
    "img_patches = [img_crop(imgs[i], patch_size, patch_size) for i in range(n)]\n",
    "gt_patches = [img_crop(gt_imgs[i], patch_size, patch_size) for i in range(n)]\n",
    "\n",
    "# Linearize list of patches\n",
    "img_patches = np.asarray([img_patches[i][j] for i in range(len(img_patches)) for j in range(len(img_patches[i]))])\n",
    "gt_patches =  np.asarray([gt_patches[i][j] for i in range(len(gt_patches)) for j in range(len(gt_patches[i]))])\n"
   ]
  },
  {
   "cell_type": "markdown",
   "metadata": {},
   "source": [
    "# Apply edge to paches"
   ]
  },
  {
   "cell_type": "code",
   "execution_count": 67,
   "metadata": {},
   "outputs": [
    {
     "name": "stdout",
     "output_type": "stream",
     "text": [
      "patches shapes (12500, 16, 16, 3)\n"
     ]
    },
    {
     "data": {
      "image/png": "[encoded data removed]",
      "text/plain": [
       "<Figure size 1080x1080 with 6 Axes>"
      ]
     },
     "metadata": {
      "needs_background": "light"
     },
     "output_type": "display_data"
    }
   ],
   "source": [
    "from skimage import feature\n",
    "from skimage.color import rgb2gray\n",
    "\n",
    "fig, axs = plt.subplots(2,3, figsize=(15,15))\n",
    "print(\"patches shapes {0}\".format(img_patches.shape))\n",
    "image_number=1002\n",
    "\n",
    "#original\n",
    "axs[0, 0].imshow(img_patches[image_number])\n",
    "axs[0, 0].set_title('original')\n",
    "axs[0,0].set_axis_off()\n",
    "\n",
    "#canny\n",
    "sigma_ = 2\n",
    "grayscale = rgb2gray(img_patches[image_number])\n",
    "edges = feature.canny(grayscale, sigma=sigma_)\n",
    "axs[0, 1].imshow(edges)\n",
    "axs[0,1].set_axis_off()\n",
    "\n",
    "#Hough scikit\n",
    "from skimage.transform import hough_line, hough_line_peaks\n",
    "from matplotlib import cm\n",
    "tested_angles = np.linspace(-np.pi / 2, np.pi / 2, 360)\n",
    "h, theta, d = hough_line(edges, theta=tested_angles)\n",
    "\n",
    "axs[0,2].imshow(np.log(1 + h),\n",
    "             extent=[np.rad2deg(theta[-1]), np.rad2deg(theta[0]), d[-1], d[0]],\n",
    "             cmap=cm.gray, aspect=1/1.5)\n",
    "axs[0,2].set_title('Hough transform')\n",
    "axs[0,2].set_axis_off()\n",
    "\n",
    "axs[1,0].imshow(edges, cmap=cm.gray)\n",
    "origin = np.array((0, edges.shape[1]))\n",
    "for _, angle, dist in zip(*hough_line_peaks(h, theta, d)):\n",
    "    y0, y1 = (dist - origin * np.cos(angle)) / np.sin(angle)\n",
    "    axs[1,0].plot(origin, (y0, y1), '-r')\n",
    "    break\n",
    "axs[1,0].set_xlim(origin)\n",
    "axs[1,0].set_ylim((edges.shape[0], 0))\n",
    "\n",
    "## Hough on image\n",
    "axs[1,1].imshow(img_patches[image_number], cmap=cm.gray)\n",
    "origin = np.array((0, edges.shape[1]))\n",
    "for _, angle, dist in zip(*hough_line_peaks(h, theta, d)):\n",
    "    y0, y1 = (dist - origin * np.cos(angle)) / np.sin(angle)\n",
    "    axs[1,1].plot(origin, (y0, y1), '-r')\n",
    "    break\n",
    "axs[1,1].set_xlim(origin)\n",
    "axs[1,1].set_ylim((edges.shape[0], 0))\n",
    "\n",
    "\n",
    "#ground\n",
    "axs[1, 2].imshow(gt_patches[image_number])\n",
    "axs[1,2].set_title('ground')\n",
    "axs[1,2].set_axis_off()\n"
   ]
  },
  {
   "cell_type": "markdown",
   "metadata": {},
   "source": [
    "## Apply to all patches"
   ]
  },
  {
   "cell_type": "code",
   "execution_count": null,
   "metadata": {},
   "outputs": [
    {
     "name": "stdout",
     "output_type": "stream",
     "text": [
      "patches shape:(12500, 16, 16, 3)\n"
     ]
    }
   ],
   "source": [
    "print(\"patches shape:{0}\".format(img_patches.shape))\n",
    "tested_angles = np.linspace(-np.pi / 2, np.pi / 2, 360)\n",
    "sigma_ = 2\n",
    "edge_patches = []\n",
    "for patch in img_patches:\n",
    "    grayscale = rgb2gray(patch)\n",
    "    edges = feature.canny(grayscale, sigma=sigma_)\n",
    "    h, theta, d = hough_line(edges, theta=tested_angles)\n",
    "    \n",
    "    origin = np.array((0, edges.shape[1]))\n",
    "    line_image = np.copy(patch) * 0\n",
    "    for _, angle, dist in zip(*hough_line_peaks(h, theta, d)):\n",
    "        y0, y1 = (dist - origin * np.cos(angle)) / np.sin(angle)\n",
    "        axs[1,0].plot(origin, (y0, y1), '-r')\n",
    "        cv2.line(line_image,(origin[0], int(y0)), (origin[1], int(y1)),(0,255,0),2)\n",
    "        break\n",
    "    edge_patches.append(line_image)"
   ]
  },
  {
   "cell_type": "code",
   "execution_count": null,
   "metadata": {},
   "outputs": [],
   "source": []
  }
 ],
 "metadata": {
  "kernelspec": {
   "display_name": "Python 3",
   "language": "python",
   "name": "python3"
  },
  "language_info": {
   "codemirror_mode": {
    "name": "ipython",
    "version": 3
   },
   "file_extension": ".py",
   "mimetype": "text/x-python",
   "name": "python",
   "nbconvert_exporter": "python",
   "pygments_lexer": "ipython3",
   "version": "3.7.3"
  }
 },
 "nbformat": 4,
 "nbformat_minor": 2
}
