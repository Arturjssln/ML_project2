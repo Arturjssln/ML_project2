{
 "cells": [
  {
   "cell_type": "markdown",
   "metadata": {
    "ExecuteTime": {
     "end_time": "2019-08-10T17:15:58.463456Z",
     "start_time": "2019-08-10T17:15:58.429376Z"
    }
   },
   "source": [
    "## Install libraries first\n",
    "\n",
    "Be sure  keras with tensorflow installed\n",
    "`!conda install -c conda-forge keras`\n"
   ]
  },
  {
   "cell_type": "code",
   "execution_count": null,
   "metadata": {
    "scrolled": true
   },
   "outputs": [],
   "source": [
    "!pip install git+https://github.com/qubvel/efficientnet\n",
    "!pip install git+https://github.com/qubvel/classification_models.git\n",
    "!pip install git+https://github.com/qubvel/segmentation_models\n",
    "!pip install -U git+https://github.com/albu/albumentations\n",
    "!pip install tta-wrapper"
   ]
  },
  {
   "cell_type": "markdown",
   "metadata": {
    "ExecuteTime": {
     "end_time": "2019-08-25T13:24:49.279220Z",
     "start_time": "2019-08-25T13:24:49.275550Z"
    }
   },
   "source": [
    "## Defining data generator"
   ]
  },
  {
   "cell_type": "code",
   "execution_count": 4,
   "metadata": {
    "ExecuteTime": {
     "end_time": "2019-08-10T12:32:39.528882Z",
     "start_time": "2019-08-10T12:32:37.881232Z"
    }
   },
   "outputs": [
    {
     "name": "stdout",
     "output_type": "stream",
     "text": [
      "The autoreload extension is already loaded. To reload it, use:\n",
      "  %reload_ext autoreload\n"
     ]
    }
   ],
   "source": [
    "from keras.utils import Sequence\n",
    "from skimage.io import imread\n",
    "import os\n",
    "import matplotlib.pyplot as plt\n",
    "from sklearn.utils import shuffle\n",
    "import tensorflow as tf\n",
    "\n",
    "%load_ext autoreload\n",
    "%autoreload 2\n",
    "%matplotlib inline\n",
    "from albumentations import (Blur, Compose, HorizontalFlip, HueSaturationValue,\n",
    "                            IAAEmboss, IAASharpen, JpegCompression, OneOf,\n",
    "                            RandomBrightness, RandomBrightnessContrast,\n",
    "                            RandomContrast, RandomCrop, RandomGamma,\n",
    "                            RandomRotate90, RGBShift, ShiftScaleRotate,\n",
    "                            Transpose, VerticalFlip, ElasticTransform, GridDistortion, OpticalDistortion)\n",
    " \n",
    "import albumentations as albu\n",
    "from albumentations import Resize\n",
    "\n",
    "class DataGeneratorFolder(Sequence):\n",
    "    def __init__(self, root_dir=r'../data/val_test', image_folder='images/', mask_folder='groundtruth/', \n",
    "                 batch_size=1, image_size=384, nb_y_features=1, \n",
    "                 augmentation=None,\n",
    "                 suffle=True):\n",
    "        self.root_dir = root_dir\n",
    "        self.image_filenames = os.listdir(os.path.join(root_dir, image_folder))\n",
    "        for i in range(len(self.image_filenames)):\n",
    "            self.image_filenames[i] = os.path.join(os.path.join(root_dir, image_folder), self.image_filenames[i])\n",
    "\n",
    "        self.mask_names = os.listdir(os.path.join(root_dir, mask_folder))\n",
    "        \n",
    "        for i in range(len(self.image_filenames)):\n",
    "            self.mask_names[i] = os.path.join(os.path.join(root_dir, mask_folder), self.mask_names[i])\n",
    "            \n",
    "            \n",
    "        self.batch_size = batch_size\n",
    "        self.currentIndex = 0\n",
    "        self.augmentation = augmentation\n",
    "        self.image_size = image_size\n",
    "        self.nb_y_features = nb_y_features\n",
    "        self.indexes = None\n",
    "        self.suffle = suffle\n",
    "        \n",
    "    def __len__(self):\n",
    "        \"\"\"\n",
    "        Calculates size of batch\n",
    "        \"\"\"\n",
    "        return int(np.ceil(len(self.image_filenames) / (self.batch_size)))\n",
    "\n",
    "    def on_epoch_end(self):\n",
    "        \"\"\"Updates indexes after each epoch\"\"\"\n",
    "        if self.suffle==True:\n",
    "            self.image_filenames, self.mask_names = shuffle(self.image_filenames, self.mask_names)\n",
    "        \n",
    "    def read_image_mask(self, image_name, mask_name):\n",
    "        return imread(image_name)/255, (imread(mask_name, as_gray=True) > 0).astype(np.int8)\n",
    "\n",
    "    def __getitem__(self, index):\n",
    "        \"\"\"\n",
    "        Generate one batch of data\n",
    "        \n",
    "        \"\"\"\n",
    "        # Generate indexes of the batch\n",
    "        data_index_min = int(index*self.batch_size)\n",
    "        data_index_max = int(min((index+1)*self.batch_size, len(self.image_filenames)))\n",
    "        \n",
    "        indexes = self.image_filenames[data_index_min:data_index_max]\n",
    "\n",
    "        this_batch_size = len(indexes) # The last batch can be smaller than the others\n",
    "        \n",
    "        # Defining dataset\n",
    "        X = np.empty((this_batch_size, self.image_size, self.image_size, 3), dtype=np.float32)\n",
    "        y = np.empty((this_batch_size, self.image_size, self.image_size, self.nb_y_features), dtype=np.uint8)\n",
    "\n",
    "        for i, sample_index in enumerate(indexes):\n",
    "\n",
    "            X_sample, y_sample = self.read_image_mask(self.image_filenames[index * self.batch_size + i], \n",
    "                                                    self.mask_names[index * self.batch_size + i])\n",
    "                 \n",
    "            # if augmentation is defined, we assume its a train set\n",
    "            if self.augmentation is not None:\n",
    "                  \n",
    "                # Augmentation code\n",
    "                augmented = self.augmentation(self.image_size)(image=X_sample, mask=y_sample)\n",
    "                image_augm = augmented['image']\n",
    "                mask_augm = augmented['mask'].reshape(self.image_size, self.image_size, self.nb_y_features)\n",
    "                X[i, ...] = np.clip(image_augm, a_min = 0, a_max=1)\n",
    "                y[i, ...] = mask_augm\n",
    "            \n",
    "            # if augmentation isnt defined, we assume its a test set. \n",
    "            # Because test images can have different sizes we resize it to be divisable by 32\n",
    "            elif self.augmentation is None and self.batch_size ==1:\n",
    "                X_sample, y_sample = self.read_image_mask(self.image_filenames[index * 1 + i], \n",
    "                                                      self.mask_names[index * 1 + i])\n",
    "                augmented = Resize(height=(X_sample.shape[0]//32)*32, width=(X_sample.shape[1]//32)*32)(image = X_sample, mask = y_sample)\n",
    "                X_sample, y_sample = augmented['image'], augmented['mask']\n",
    "\n",
    "                return X_sample.reshape(1, X_sample.shape[0], X_sample.shape[1], 3).astype(np.float32),\\\n",
    "                       y_sample.reshape(1, X_sample.shape[0], X_sample.shape[1], self.nb_y_features).astype(np.uint8)\n",
    "\n",
    "        return X, y"
   ]
  },
  {
   "cell_type": "markdown",
   "metadata": {
    "ExecuteTime": {
     "end_time": "2019-08-25T13:25:12.605769Z",
     "start_time": "2019-08-25T13:25:12.602689Z"
    }
   },
   "source": [
    "## Data augmentation - albumentations"
   ]
  },
  {
   "cell_type": "code",
   "execution_count": 5,
   "metadata": {
    "ExecuteTime": {
     "end_time": "2019-08-10T12:33:10.890415Z",
     "start_time": "2019-08-10T12:33:10.288836Z"
    },
    "scrolled": false
   },
   "outputs": [
    {
     "name": "stdout",
     "output_type": "stream",
     "text": [
      "<__main__.DataGeneratorFolder object at 0x00000263552B0048>\n"
     ]
    },
    {
     "ename": "KeyError",
     "evalue": "dtype('float64')",
     "output_type": "error",
     "traceback": [
      "\u001b[1;31m---------------------------------------------------------------------------\u001b[0m",
      "\u001b[1;31mKeyError\u001b[0m                                  Traceback (most recent call last)",
      "\u001b[1;32m<ipython-input-5-d255ffd6c00a>\u001b[0m in \u001b[0;36m<module>\u001b[1;34m\u001b[0m\n\u001b[0;32m     24\u001b[0m                                      nb_y_features = 1, augmentation = aug_with_crop)\n\u001b[0;32m     25\u001b[0m \u001b[0mprint\u001b[0m\u001b[1;33m(\u001b[0m\u001b[0mtest_generator\u001b[0m\u001b[1;33m)\u001b[0m\u001b[1;33m\u001b[0m\u001b[1;33m\u001b[0m\u001b[0m\n\u001b[1;32m---> 26\u001b[1;33m \u001b[0mXtest\u001b[0m\u001b[1;33m,\u001b[0m \u001b[0mytest\u001b[0m \u001b[1;33m=\u001b[0m \u001b[0mtest_generator\u001b[0m\u001b[1;33m.\u001b[0m\u001b[0m__getitem__\u001b[0m\u001b[1;33m(\u001b[0m\u001b[1;36m0\u001b[0m\u001b[1;33m)\u001b[0m\u001b[1;33m\u001b[0m\u001b[1;33m\u001b[0m\u001b[0m\n\u001b[0m\u001b[0;32m     27\u001b[0m \u001b[0mplt\u001b[0m\u001b[1;33m.\u001b[0m\u001b[0mimshow\u001b[0m\u001b[1;33m(\u001b[0m\u001b[0mXtest\u001b[0m\u001b[1;33m[\u001b[0m\u001b[1;36m0\u001b[0m\u001b[1;33m]\u001b[0m\u001b[1;33m)\u001b[0m\u001b[1;33m\u001b[0m\u001b[1;33m\u001b[0m\u001b[0m\n\u001b[0;32m     28\u001b[0m \u001b[0mplt\u001b[0m\u001b[1;33m.\u001b[0m\u001b[0mshow\u001b[0m\u001b[1;33m(\u001b[0m\u001b[1;33m)\u001b[0m\u001b[1;33m\u001b[0m\u001b[1;33m\u001b[0m\u001b[0m\n",
      "\u001b[1;32m<ipython-input-4-587a21db9889>\u001b[0m in \u001b[0;36m__getitem__\u001b[1;34m(self, index)\u001b[0m\n\u001b[0;32m     83\u001b[0m \u001b[1;33m\u001b[0m\u001b[0m\n\u001b[0;32m     84\u001b[0m                 \u001b[1;31m# Augmentation code\u001b[0m\u001b[1;33m\u001b[0m\u001b[1;33m\u001b[0m\u001b[1;33m\u001b[0m\u001b[0m\n\u001b[1;32m---> 85\u001b[1;33m                 \u001b[0maugmented\u001b[0m \u001b[1;33m=\u001b[0m \u001b[0mself\u001b[0m\u001b[1;33m.\u001b[0m\u001b[0maugmentation\u001b[0m\u001b[1;33m(\u001b[0m\u001b[0mself\u001b[0m\u001b[1;33m.\u001b[0m\u001b[0mimage_size\u001b[0m\u001b[1;33m)\u001b[0m\u001b[1;33m(\u001b[0m\u001b[0mimage\u001b[0m\u001b[1;33m=\u001b[0m\u001b[0mX_sample\u001b[0m\u001b[1;33m,\u001b[0m \u001b[0mmask\u001b[0m\u001b[1;33m=\u001b[0m\u001b[0my_sample\u001b[0m\u001b[1;33m)\u001b[0m\u001b[1;33m\u001b[0m\u001b[1;33m\u001b[0m\u001b[0m\n\u001b[0m\u001b[0;32m     86\u001b[0m                 \u001b[0mimage_augm\u001b[0m \u001b[1;33m=\u001b[0m \u001b[0maugmented\u001b[0m\u001b[1;33m[\u001b[0m\u001b[1;34m'image'\u001b[0m\u001b[1;33m]\u001b[0m\u001b[1;33m\u001b[0m\u001b[1;33m\u001b[0m\u001b[0m\n\u001b[0;32m     87\u001b[0m                 \u001b[0mmask_augm\u001b[0m \u001b[1;33m=\u001b[0m \u001b[0maugmented\u001b[0m\u001b[1;33m[\u001b[0m\u001b[1;34m'mask'\u001b[0m\u001b[1;33m]\u001b[0m\u001b[1;33m.\u001b[0m\u001b[0mreshape\u001b[0m\u001b[1;33m(\u001b[0m\u001b[0mself\u001b[0m\u001b[1;33m.\u001b[0m\u001b[0mimage_size\u001b[0m\u001b[1;33m,\u001b[0m \u001b[0mself\u001b[0m\u001b[1;33m.\u001b[0m\u001b[0mimage_size\u001b[0m\u001b[1;33m,\u001b[0m \u001b[0mself\u001b[0m\u001b[1;33m.\u001b[0m\u001b[0mnb_y_features\u001b[0m\u001b[1;33m)\u001b[0m\u001b[1;33m\u001b[0m\u001b[1;33m\u001b[0m\u001b[0m\n",
      "\u001b[1;32mc:\\users\\glagl\\.conda\\envs\\ml\\lib\\site-packages\\albumentations\\core\\composition.py\u001b[0m in \u001b[0;36m__call__\u001b[1;34m(self, force_apply, **data)\u001b[0m\n\u001b[0;32m    174\u001b[0m                     \u001b[0mp\u001b[0m\u001b[1;33m.\u001b[0m\u001b[0mpreprocess\u001b[0m\u001b[1;33m(\u001b[0m\u001b[0mdata\u001b[0m\u001b[1;33m)\u001b[0m\u001b[1;33m\u001b[0m\u001b[1;33m\u001b[0m\u001b[0m\n\u001b[0;32m    175\u001b[0m \u001b[1;33m\u001b[0m\u001b[0m\n\u001b[1;32m--> 176\u001b[1;33m             \u001b[0mdata\u001b[0m \u001b[1;33m=\u001b[0m \u001b[0mt\u001b[0m\u001b[1;33m(\u001b[0m\u001b[0mforce_apply\u001b[0m\u001b[1;33m=\u001b[0m\u001b[0mforce_apply\u001b[0m\u001b[1;33m,\u001b[0m \u001b[1;33m**\u001b[0m\u001b[0mdata\u001b[0m\u001b[1;33m)\u001b[0m\u001b[1;33m\u001b[0m\u001b[1;33m\u001b[0m\u001b[0m\n\u001b[0m\u001b[0;32m    177\u001b[0m \u001b[1;33m\u001b[0m\u001b[0m\n\u001b[0;32m    178\u001b[0m             \u001b[1;32mif\u001b[0m \u001b[0mdual_start_end\u001b[0m \u001b[1;32mis\u001b[0m \u001b[1;32mnot\u001b[0m \u001b[1;32mNone\u001b[0m \u001b[1;32mand\u001b[0m \u001b[0midx\u001b[0m \u001b[1;33m==\u001b[0m \u001b[0mdual_start_end\u001b[0m\u001b[1;33m[\u001b[0m\u001b[1;36m1\u001b[0m\u001b[1;33m]\u001b[0m\u001b[1;33m:\u001b[0m\u001b[1;33m\u001b[0m\u001b[1;33m\u001b[0m\u001b[0m\n",
      "\u001b[1;32mc:\\users\\glagl\\.conda\\envs\\ml\\lib\\site-packages\\albumentations\\core\\transforms_interface.py\u001b[0m in \u001b[0;36m__call__\u001b[1;34m(self, force_apply, **kwargs)\u001b[0m\n\u001b[0;32m     85\u001b[0m                     )\n\u001b[0;32m     86\u001b[0m                 \u001b[0mkwargs\u001b[0m\u001b[1;33m[\u001b[0m\u001b[0mself\u001b[0m\u001b[1;33m.\u001b[0m\u001b[0msave_key\u001b[0m\u001b[1;33m]\u001b[0m\u001b[1;33m[\u001b[0m\u001b[0mid\u001b[0m\u001b[1;33m(\u001b[0m\u001b[0mself\u001b[0m\u001b[1;33m)\u001b[0m\u001b[1;33m]\u001b[0m \u001b[1;33m=\u001b[0m \u001b[0mdeepcopy\u001b[0m\u001b[1;33m(\u001b[0m\u001b[0mparams\u001b[0m\u001b[1;33m)\u001b[0m\u001b[1;33m\u001b[0m\u001b[1;33m\u001b[0m\u001b[0m\n\u001b[1;32m---> 87\u001b[1;33m             \u001b[1;32mreturn\u001b[0m \u001b[0mself\u001b[0m\u001b[1;33m.\u001b[0m\u001b[0mapply_with_params\u001b[0m\u001b[1;33m(\u001b[0m\u001b[0mparams\u001b[0m\u001b[1;33m,\u001b[0m \u001b[1;33m**\u001b[0m\u001b[0mkwargs\u001b[0m\u001b[1;33m)\u001b[0m\u001b[1;33m\u001b[0m\u001b[1;33m\u001b[0m\u001b[0m\n\u001b[0m\u001b[0;32m     88\u001b[0m \u001b[1;33m\u001b[0m\u001b[0m\n\u001b[0;32m     89\u001b[0m         \u001b[1;32mreturn\u001b[0m \u001b[0mkwargs\u001b[0m\u001b[1;33m\u001b[0m\u001b[1;33m\u001b[0m\u001b[0m\n",
      "\u001b[1;32mc:\\users\\glagl\\.conda\\envs\\ml\\lib\\site-packages\\albumentations\\core\\transforms_interface.py\u001b[0m in \u001b[0;36mapply_with_params\u001b[1;34m(self, params, force_apply, **kwargs)\u001b[0m\n\u001b[0;32m     98\u001b[0m                 \u001b[0mtarget_function\u001b[0m \u001b[1;33m=\u001b[0m \u001b[0mself\u001b[0m\u001b[1;33m.\u001b[0m\u001b[0m_get_target_function\u001b[0m\u001b[1;33m(\u001b[0m\u001b[0mkey\u001b[0m\u001b[1;33m)\u001b[0m\u001b[1;33m\u001b[0m\u001b[1;33m\u001b[0m\u001b[0m\n\u001b[0;32m     99\u001b[0m                 \u001b[0mtarget_dependencies\u001b[0m \u001b[1;33m=\u001b[0m \u001b[1;33m{\u001b[0m\u001b[0mk\u001b[0m\u001b[1;33m:\u001b[0m \u001b[0mkwargs\u001b[0m\u001b[1;33m[\u001b[0m\u001b[0mk\u001b[0m\u001b[1;33m]\u001b[0m \u001b[1;32mfor\u001b[0m \u001b[0mk\u001b[0m \u001b[1;32min\u001b[0m \u001b[0mself\u001b[0m\u001b[1;33m.\u001b[0m\u001b[0mtarget_dependence\u001b[0m\u001b[1;33m.\u001b[0m\u001b[0mget\u001b[0m\u001b[1;33m(\u001b[0m\u001b[0mkey\u001b[0m\u001b[1;33m,\u001b[0m \u001b[1;33m[\u001b[0m\u001b[1;33m]\u001b[0m\u001b[1;33m)\u001b[0m\u001b[1;33m}\u001b[0m\u001b[1;33m\u001b[0m\u001b[1;33m\u001b[0m\u001b[0m\n\u001b[1;32m--> 100\u001b[1;33m                 \u001b[0mres\u001b[0m\u001b[1;33m[\u001b[0m\u001b[0mkey\u001b[0m\u001b[1;33m]\u001b[0m \u001b[1;33m=\u001b[0m \u001b[0mtarget_function\u001b[0m\u001b[1;33m(\u001b[0m\u001b[0marg\u001b[0m\u001b[1;33m,\u001b[0m \u001b[1;33m**\u001b[0m\u001b[0mdict\u001b[0m\u001b[1;33m(\u001b[0m\u001b[0mparams\u001b[0m\u001b[1;33m,\u001b[0m \u001b[1;33m**\u001b[0m\u001b[0mtarget_dependencies\u001b[0m\u001b[1;33m)\u001b[0m\u001b[1;33m)\u001b[0m\u001b[1;33m\u001b[0m\u001b[1;33m\u001b[0m\u001b[0m\n\u001b[0m\u001b[0;32m    101\u001b[0m             \u001b[1;32melse\u001b[0m\u001b[1;33m:\u001b[0m\u001b[1;33m\u001b[0m\u001b[1;33m\u001b[0m\u001b[0m\n\u001b[0;32m    102\u001b[0m                 \u001b[0mres\u001b[0m\u001b[1;33m[\u001b[0m\u001b[0mkey\u001b[0m\u001b[1;33m]\u001b[0m \u001b[1;33m=\u001b[0m \u001b[1;32mNone\u001b[0m\u001b[1;33m\u001b[0m\u001b[1;33m\u001b[0m\u001b[0m\n",
      "\u001b[1;32mc:\\users\\glagl\\.conda\\envs\\ml\\lib\\site-packages\\albumentations\\augmentations\\transforms.py\u001b[0m in \u001b[0;36mapply\u001b[1;34m(self, img, alpha, beta, **params)\u001b[0m\n\u001b[0;32m   2310\u001b[0m \u001b[1;33m\u001b[0m\u001b[0m\n\u001b[0;32m   2311\u001b[0m     \u001b[1;32mdef\u001b[0m \u001b[0mapply\u001b[0m\u001b[1;33m(\u001b[0m\u001b[0mself\u001b[0m\u001b[1;33m,\u001b[0m \u001b[0mimg\u001b[0m\u001b[1;33m,\u001b[0m \u001b[0malpha\u001b[0m\u001b[1;33m=\u001b[0m\u001b[1;36m1.0\u001b[0m\u001b[1;33m,\u001b[0m \u001b[0mbeta\u001b[0m\u001b[1;33m=\u001b[0m\u001b[1;36m0.0\u001b[0m\u001b[1;33m,\u001b[0m \u001b[1;33m**\u001b[0m\u001b[0mparams\u001b[0m\u001b[1;33m)\u001b[0m\u001b[1;33m:\u001b[0m\u001b[1;33m\u001b[0m\u001b[1;33m\u001b[0m\u001b[0m\n\u001b[1;32m-> 2312\u001b[1;33m         \u001b[1;32mreturn\u001b[0m \u001b[0mF\u001b[0m\u001b[1;33m.\u001b[0m\u001b[0mbrightness_contrast_adjust\u001b[0m\u001b[1;33m(\u001b[0m\u001b[0mimg\u001b[0m\u001b[1;33m,\u001b[0m \u001b[0malpha\u001b[0m\u001b[1;33m,\u001b[0m \u001b[0mbeta\u001b[0m\u001b[1;33m,\u001b[0m \u001b[0mself\u001b[0m\u001b[1;33m.\u001b[0m\u001b[0mbrightness_by_max\u001b[0m\u001b[1;33m)\u001b[0m\u001b[1;33m\u001b[0m\u001b[1;33m\u001b[0m\u001b[0m\n\u001b[0m\u001b[0;32m   2313\u001b[0m \u001b[1;33m\u001b[0m\u001b[0m\n\u001b[0;32m   2314\u001b[0m     \u001b[1;32mdef\u001b[0m \u001b[0mget_params\u001b[0m\u001b[1;33m(\u001b[0m\u001b[0mself\u001b[0m\u001b[1;33m)\u001b[0m\u001b[1;33m:\u001b[0m\u001b[1;33m\u001b[0m\u001b[1;33m\u001b[0m\u001b[0m\n",
      "\u001b[1;32mc:\\users\\glagl\\.conda\\envs\\ml\\lib\\site-packages\\albumentations\\augmentations\\functional.py\u001b[0m in \u001b[0;36mbrightness_contrast_adjust\u001b[1;34m(img, alpha, beta, beta_by_max)\u001b[0m\n\u001b[0;32m   1309\u001b[0m         \u001b[1;32mreturn\u001b[0m \u001b[0m_brightness_contrast_adjust_uint\u001b[0m\u001b[1;33m(\u001b[0m\u001b[0mimg\u001b[0m\u001b[1;33m,\u001b[0m \u001b[0malpha\u001b[0m\u001b[1;33m,\u001b[0m \u001b[0mbeta\u001b[0m\u001b[1;33m,\u001b[0m \u001b[0mbeta_by_max\u001b[0m\u001b[1;33m)\u001b[0m\u001b[1;33m\u001b[0m\u001b[1;33m\u001b[0m\u001b[0m\n\u001b[0;32m   1310\u001b[0m     \u001b[1;32melse\u001b[0m\u001b[1;33m:\u001b[0m\u001b[1;33m\u001b[0m\u001b[1;33m\u001b[0m\u001b[0m\n\u001b[1;32m-> 1311\u001b[1;33m         \u001b[1;32mreturn\u001b[0m \u001b[0m_brightness_contrast_adjust_non_uint\u001b[0m\u001b[1;33m(\u001b[0m\u001b[0mimg\u001b[0m\u001b[1;33m,\u001b[0m \u001b[0malpha\u001b[0m\u001b[1;33m,\u001b[0m \u001b[0mbeta\u001b[0m\u001b[1;33m,\u001b[0m \u001b[0mbeta_by_max\u001b[0m\u001b[1;33m)\u001b[0m\u001b[1;33m\u001b[0m\u001b[1;33m\u001b[0m\u001b[0m\n\u001b[0m\u001b[0;32m   1312\u001b[0m \u001b[1;33m\u001b[0m\u001b[0m\n\u001b[0;32m   1313\u001b[0m \u001b[1;33m\u001b[0m\u001b[0m\n",
      "\u001b[1;32mc:\\users\\glagl\\.conda\\envs\\ml\\lib\\site-packages\\albumentations\\augmentations\\functional.py\u001b[0m in \u001b[0;36mwrapped_function\u001b[1;34m(img, *args, **kwargs)\u001b[0m\n\u001b[0;32m     38\u001b[0m         \u001b[0mdtype\u001b[0m \u001b[1;33m=\u001b[0m \u001b[0mimg\u001b[0m\u001b[1;33m.\u001b[0m\u001b[0mdtype\u001b[0m\u001b[1;33m\u001b[0m\u001b[1;33m\u001b[0m\u001b[0m\n\u001b[0;32m     39\u001b[0m         \u001b[0mmaxval\u001b[0m \u001b[1;33m=\u001b[0m \u001b[0mMAX_VALUES_BY_DTYPE\u001b[0m\u001b[1;33m.\u001b[0m\u001b[0mget\u001b[0m\u001b[1;33m(\u001b[0m\u001b[0mdtype\u001b[0m\u001b[1;33m,\u001b[0m \u001b[1;36m1.0\u001b[0m\u001b[1;33m)\u001b[0m\u001b[1;33m\u001b[0m\u001b[1;33m\u001b[0m\u001b[0m\n\u001b[1;32m---> 40\u001b[1;33m         \u001b[1;32mreturn\u001b[0m \u001b[0mclip\u001b[0m\u001b[1;33m(\u001b[0m\u001b[0mfunc\u001b[0m\u001b[1;33m(\u001b[0m\u001b[0mimg\u001b[0m\u001b[1;33m,\u001b[0m \u001b[1;33m*\u001b[0m\u001b[0margs\u001b[0m\u001b[1;33m,\u001b[0m \u001b[1;33m**\u001b[0m\u001b[0mkwargs\u001b[0m\u001b[1;33m)\u001b[0m\u001b[1;33m,\u001b[0m \u001b[0mdtype\u001b[0m\u001b[1;33m,\u001b[0m \u001b[0mmaxval\u001b[0m\u001b[1;33m)\u001b[0m\u001b[1;33m\u001b[0m\u001b[1;33m\u001b[0m\u001b[0m\n\u001b[0m\u001b[0;32m     41\u001b[0m \u001b[1;33m\u001b[0m\u001b[0m\n\u001b[0;32m     42\u001b[0m     \u001b[1;32mreturn\u001b[0m \u001b[0mwrapped_function\u001b[0m\u001b[1;33m\u001b[0m\u001b[1;33m\u001b[0m\u001b[0m\n",
      "\u001b[1;32mc:\\users\\glagl\\.conda\\envs\\ml\\lib\\site-packages\\albumentations\\augmentations\\functional.py\u001b[0m in \u001b[0;36m_brightness_contrast_adjust_non_uint\u001b[1;34m(img, alpha, beta, beta_by_max)\u001b[0m\n\u001b[0;32m   1277\u001b[0m     \u001b[1;32mif\u001b[0m \u001b[0mbeta\u001b[0m \u001b[1;33m!=\u001b[0m \u001b[1;36m0\u001b[0m\u001b[1;33m:\u001b[0m\u001b[1;33m\u001b[0m\u001b[1;33m\u001b[0m\u001b[0m\n\u001b[0;32m   1278\u001b[0m         \u001b[1;32mif\u001b[0m \u001b[0mbeta_by_max\u001b[0m\u001b[1;33m:\u001b[0m\u001b[1;33m\u001b[0m\u001b[1;33m\u001b[0m\u001b[0m\n\u001b[1;32m-> 1279\u001b[1;33m             \u001b[0mmax_value\u001b[0m \u001b[1;33m=\u001b[0m \u001b[0mMAX_VALUES_BY_DTYPE\u001b[0m\u001b[1;33m[\u001b[0m\u001b[0mdtype\u001b[0m\u001b[1;33m]\u001b[0m\u001b[1;33m\u001b[0m\u001b[1;33m\u001b[0m\u001b[0m\n\u001b[0m\u001b[0;32m   1280\u001b[0m             \u001b[0mimg\u001b[0m \u001b[1;33m+=\u001b[0m \u001b[0mbeta\u001b[0m \u001b[1;33m*\u001b[0m \u001b[0mmax_value\u001b[0m\u001b[1;33m\u001b[0m\u001b[1;33m\u001b[0m\u001b[0m\n\u001b[0;32m   1281\u001b[0m         \u001b[1;32melse\u001b[0m\u001b[1;33m:\u001b[0m\u001b[1;33m\u001b[0m\u001b[1;33m\u001b[0m\u001b[0m\n",
      "\u001b[1;31mKeyError\u001b[0m: dtype('float64')"
     ]
    }
   ],
   "source": [
    "def aug_with_crop(image_size = 256, crop_prob = 1):\n",
    "    return Compose([\n",
    "        RandomCrop(width = image_size, height = image_size, p=crop_prob),\n",
    "        HorizontalFlip(p=0.5),\n",
    "        VerticalFlip(p=0.5),\n",
    "        RandomRotate90(p=0.5),\n",
    "        Transpose(p=0.5),\n",
    "        ShiftScaleRotate(shift_limit=0.01, scale_limit=0.04, rotate_limit=0, p=0.25),\n",
    "        RandomBrightnessContrast(p=0.5),\n",
    "        RandomGamma(p=0.25),\n",
    "        IAAEmboss(p=0.25),\n",
    "        Blur(p=0.01, blur_limit = 3),\n",
    "        OneOf([\n",
    "            ElasticTransform(p=0.5, alpha=120, sigma=120 * 0.05, alpha_affine=120 * 0.03),\n",
    "            GridDistortion(p=0.5),\n",
    "            OpticalDistortion(p=1, distort_limit=2, shift_limit=0.5)                  \n",
    "        ], p=0.8)\n",
    "    ], p = 1)\n",
    "\n",
    "test_generator = DataGeneratorFolder(root_dir = '../../data/training',\n",
    "                                     image_folder = 'images/', \n",
    "                                     mask_folder = 'groundtruth/',\n",
    "                                     batch_size = 1,\n",
    "                                     nb_y_features = 1, augmentation = aug_with_crop)\n",
    "print(test_generator)\n",
    "Xtest, ytest = test_generator.__getitem__(0)\n",
    "plt.imshow(Xtest[0])     \n",
    "plt.show()\n",
    "plt.imshow(ytest[0, :,:,0])\n",
    "plt.show() "
   ]
  },
  {
   "cell_type": "code",
   "execution_count": null,
   "metadata": {
    "ExecuteTime": {
     "end_time": "2019-08-10T12:33:14.247533Z",
     "start_time": "2019-08-10T12:33:14.215922Z"
    }
   },
   "outputs": [],
   "source": [
    "# setting generators\n",
    "test_generator = DataGeneratorFolder(root_dir = '../../data/training', \n",
    "                           image_folder = 'images/', \n",
    "                           mask_folder = 'groundtruth/', \n",
    "                                   batch_size=1,augmentation = aug_with_crop,\n",
    "                                   nb_y_features = 1)\n",
    "\n",
    "train_generator = DataGeneratorFolder(root_dir = '../../data/training', \n",
    "                                      image_folder = 'test_images/', \n",
    "                                      mask_folder = 'test_groundtruth/', \n",
    "                                      augmentation = aug_with_crop,\n",
    "                                      batch_size=1,\n",
    "                                      image_size=384,\n",
    "                                      nb_y_features = 1)\n",
    "print(len(test_generator))\n",
    "print(len(train_generator))"
   ]
  },
  {
   "cell_type": "markdown",
   "metadata": {
    "ExecuteTime": {
     "end_time": "2019-08-25T13:25:30.532652Z",
     "start_time": "2019-08-25T13:25:30.529763Z"
    }
   },
   "source": [
    "## Callbacks"
   ]
  },
  {
   "cell_type": "code",
   "execution_count": null,
   "metadata": {
    "ExecuteTime": {
     "end_time": "2019-08-10T12:33:15.953138Z",
     "start_time": "2019-08-10T12:33:15.544369Z"
    }
   },
   "outputs": [],
   "source": [
    "from keras.callbacks import ModelCheckpoint, ReduceLROnPlateau, EarlyStopping, TensorBoard\n",
    "\n",
    "# reduces learning rate on plateau\n",
    "lr_reducer = ReduceLROnPlateau(factor=0.1,\n",
    "                               cooldown= 10,\n",
    "                               patience=10,verbose =1,\n",
    "                               min_lr=0.1e-5)\n",
    "mode_autosave = ModelCheckpoint(\"./weights/road_crop.efficientnetb0imgsize.h5\",monitor='val_iou_score', \n",
    "                                   mode = 'max', save_best_only=True, verbose=1, period =1)\n",
    "\n",
    "# stop learining as metric on validatopn stop increasing\n",
    "early_stopping = EarlyStopping(patience=10, verbose=1, mode = 'auto') \n",
    "\n",
    "# tensorboard for monitoring logs\n",
    "tensorboard = TensorBoard(log_dir='./logs/tensorboard', histogram_freq=0,\n",
    "                          write_graph=True, write_images=False)\n",
    "\n",
    "callbacks = [mode_autosave, lr_reducer, tensorboard, early_stopping]"
   ]
  },
  {
   "cell_type": "code",
   "execution_count": null,
   "metadata": {
    "ExecuteTime": {
     "end_time": "2019-08-10T16:38:53.892874Z",
     "start_time": "2019-08-10T12:34:33.637940Z"
    }
   },
   "outputs": [],
   "source": [
    "from segmentation_models import Unet\n",
    "from keras.optimizers import Adam\n",
    "from segmentation_models.losses import bce_jaccard_loss, bce_dice_loss\n",
    "from segmentation_models.metrics import iou_score\n",
    "\n",
    "def plot_training_history(history):\n",
    "    \"\"\"\n",
    "    Plots model training history \n",
    "    \"\"\"\n",
    "    fig, (ax_loss, ax_acc) = plt.subplots(1, 2, figsize=(15,5))\n",
    "    ax_loss.plot(history.epoch, history.history[\"loss\"], label=\"Train loss\")\n",
    "    ax_loss.plot(history.epoch, history.history[\"val_loss\"], label=\"Validation loss\")\n",
    "    ax_loss.legend()\n",
    "    ax_acc.plot(history.epoch, history.history[\"iou_score\"], label=\"Train iou\")\n",
    "    ax_acc.plot(history.epoch, history.history[\"val_iou_score\"], label=\"Validation iou\")\n",
    "    ax_acc.legend()\n",
    "    \n",
    "model = Unet(backbone_name = 'efficientnetb0', encoder_weights=None, encoder_freeze = False)\n",
    "model.compile(optimizer = Adam(),\n",
    "                    loss=bce_jaccard_loss, metrics=[iou_score])\n",
    "\n",
    "history = model.fit_generator(train_generator, shuffle =True,\n",
    "                  epochs=50, workers=1, use_multiprocessing=False,\n",
    "                  validation_data = test_generator, \n",
    "                  verbose = 1, callbacks=callbacks)\n",
    "#plotting history\n",
    "plot_training_history(history)"
   ]
  },
  {
   "cell_type": "markdown",
   "metadata": {
    "ExecuteTime": {
     "end_time": "2019-08-10T17:45:58.019388Z",
     "start_time": "2019-08-10T17:45:57.985422Z"
    }
   },
   "source": [
    "## Inference and model quality  check"
   ]
  },
  {
   "cell_type": "markdown",
   "metadata": {
    "ExecuteTime": {
     "end_time": "2019-08-10T17:46:34.979657Z",
     "start_time": "2019-08-10T17:46:34.945655Z"
    }
   },
   "source": [
    "#### Single image"
   ]
  },
  {
   "cell_type": "code",
   "execution_count": null,
   "metadata": {
    "ExecuteTime": {
     "end_time": "2019-08-10T17:35:38.069690Z",
     "start_time": "2019-08-10T17:35:37.325037Z"
    }
   },
   "outputs": [],
   "source": [
    "def iou_metric(y_true_in, y_pred_in):\n",
    "    labels = y_true_in\n",
    "    y_pred = y_pred_in\n",
    "\n",
    "    temp1 = np.histogram2d(labels.flatten(), y_pred.flatten(), bins=([0,0.5,1], [0,0.5, 1]))\n",
    "\n",
    "    intersection = temp1[0]\n",
    "\n",
    "    area_true = np.histogram(labels,bins=[0,0.5,1])[0]\n",
    "    area_pred = np.histogram(y_pred, bins=[0,0.5,1])[0]\n",
    "    area_true = np.expand_dims(area_true, -1)\n",
    "    area_pred = np.expand_dims(area_pred, 0)\n",
    "\n",
    "    # Compute union\n",
    "    union = area_true + area_pred - intersection\n",
    "  \n",
    "    # Exclude background from the analysis\n",
    "    intersection = intersection[1:,1:]\n",
    "    intersection[intersection == 0] = 1e-9\n",
    "    \n",
    "    union = union[1:,1:]\n",
    "    union[union == 0] = 1e-9\n",
    "\n",
    "    iou = intersection / union\n",
    "    return iou\n",
    "\n",
    "def plot_mask_gt_image(mask, groud_truth, img):\n",
    "    fig, axs = plt.subplots(1,3, figsize=(20,10))\n",
    "    axs[0].imshow(mask, cmap=\"Blues\")\n",
    "    axs[1].imshow(groud_truth, cmap=\"Blues\")\n",
    "    axs[2].imshow(img)\n",
    "    plt.show()\n",
    "    \n",
    "def iou_metric_batch(y_true_in, y_pred_in):\n",
    "    y_pred_in = y_pred_in\n",
    "    batch_size = y_true_in.shape[0]\n",
    "    metric = []\n",
    "    for batch in range(batch_size):\n",
    "        value = iou_metric(y_true_in[batch], y_pred_in[batch])\n",
    "        metric.append(value)\n",
    "    return np.mean(metric)\n",
    "\n",
    "# to get single image and prediction quality\n",
    "Xtest, y_test  = test_generator.__getitem__(1)\n",
    "predicted = model.predict(np.expand_dims(Xtest[0], axis=0)).reshape(1472, 1472)\n",
    "print('IOU', iou_metric(y_test[0].reshape(1472, 1472), predicted)) "
   ]
  },
  {
   "cell_type": "code",
   "execution_count": null,
   "metadata": {
    "ExecuteTime": {
     "end_time": "2019-08-10T17:25:56.070707Z",
     "start_time": "2019-08-10T17:25:55.403208Z"
    }
   },
   "outputs": [],
   "source": [
    "plot_mask_gt_image(predicted, y_test.squeeze(0).squeeze(-1),\\\n",
    "           Xtest.squeeze(0))"
   ]
  },
  {
   "cell_type": "markdown",
   "metadata": {},
   "source": [
    "## Overall quality"
   ]
  },
  {
   "cell_type": "code",
   "execution_count": null,
   "metadata": {
    "ExecuteTime": {
     "end_time": "2019-08-10T16:45:06.620678Z",
     "start_time": "2019-08-10T16:41:23.561374Z"
    }
   },
   "outputs": [],
   "source": [
    "scores = model.evaluate_generator(test_generator)\n",
    "metrics=[iou_score]\n",
    "print(\"Loss: {:.5}\".format(scores[0]))\n",
    "for metric, value in zip(metrics, scores[1:]):\n",
    "    print(\"mean {}: {:.5}\".format(metric.__name__, value))  "
   ]
  },
  {
   "cell_type": "markdown",
   "metadata": {},
   "source": [
    "## Adding TTA (test time augmentation)"
   ]
  },
  {
   "cell_type": "code",
   "execution_count": null,
   "metadata": {
    "ExecuteTime": {
     "end_time": "2019-08-10T17:15:58.032185Z",
     "start_time": "2019-08-10T17:08:53.726562Z"
    }
   },
   "outputs": [],
   "source": [
    "from tta_wrapper import tta_segmentation\n",
    "from keras.models import load_model\n",
    "model = load_model('./weights/road_crop.efficientnetb0imgsize.h5', \n",
    "                   custom_objects={'binary_crossentropy + jaccard_loss': bce_jaccard_loss,\n",
    "                                   'iou_score': iou_score})\n",
    "tta_model = tta_segmentation(model, h_flip=True, merge='mean').compile(optimizer = Adam(), loss=bce_jaccard_loss, metrics=[iou_score])\n",
    "scores = tta_model.evaluate_generator(test_generator)\n",
    "metrics=[iou_score]\n",
    "print(\"Loss: {:.5}\".format(scores[0]))\n",
    "for metric, value in zip(metrics, scores[1:]):\n",
    "    print(\"mean {}: {:.5}\".format(metric.__name__, value)) "
   ]
  },
  {
   "cell_type": "markdown",
   "metadata": {
    "ExecuteTime": {
     "end_time": "2019-08-10T17:42:23.948002Z",
     "start_time": "2019-08-10T17:42:23.912268Z"
    }
   },
   "source": [
    "### By adjusting threshold you can further improve your score"
   ]
  },
  {
   "cell_type": "code",
   "execution_count": null,
   "metadata": {
    "ExecuteTime": {
     "end_time": "2019-08-10T17:41:09.805010Z",
     "start_time": "2019-08-10T17:41:07.895042Z"
    }
   },
   "outputs": [],
   "source": [
    "def draw_get_best_threshold(ious, thresholds):\n",
    "    \"\"\"\n",
    "    Returns threshold_best, iou_best\n",
    "    \"\"\"\n",
    "    threshold_best_index = np.argmax(ious) \n",
    "    iou_best = ious[threshold_best_index]\n",
    "    threshold_best = thresholds[threshold_best_index]\n",
    "\n",
    "    plt.plot(thresholds, ious)\n",
    "    plt.plot(threshold_best, iou_best, \"xr\", label=\"Best threshold\")\n",
    "    plt.xlabel(\"Threshold\")\n",
    "    plt.ylabel(\"IoU\")\n",
    "    plt.title(\"Threshold vs IoU ({}, {})\".format(threshold_best, iou_best))\n",
    "    plt.legend()\n",
    "    return threshold_best, iou_best\n",
    "\n",
    "preds = []\n",
    "y_val = []\n",
    "for i in (range(0,test_generator.__len__())):\n",
    "    Xtest, y_test  = test_generator.__getitem__(i)\n",
    "    preds.append(tta_model.predict(Xtest).reshape(1472, 1472))\n",
    "    y_val.append(y_test)\n",
    "preds = np.stack(preds, axis=0)\n",
    "y_val = np.stack(y_val, axis=0)\n",
    "\n",
    "thresholds = list(np.linspace(0.1, 0.9, 10))\n",
    "ious = np.array([iou_metric_batch(y_val, np.int32(preds > threshold)) for threshold in (thresholds)])\n",
    "\n",
    "best_threshold, best_iou = draw_get_best_threshold(ious, thresholds)"
   ]
  }
 ],
 "metadata": {
  "kernelspec": {
   "display_name": "Python 3",
   "language": "python",
   "name": "python3"
  },
  "language_info": {
   "codemirror_mode": {
    "name": "ipython",
    "version": 3
   },
   "file_extension": ".py",
   "mimetype": "text/x-python",
   "name": "python",
   "nbconvert_exporter": "python",
   "pygments_lexer": "ipython3",
   "version": "3.6.7"
  },
  "varInspector": {
   "cols": {
    "lenName": 16,
    "lenType": 16,
    "lenVar": 40
   },
   "kernels_config": {
    "python": {
     "delete_cmd_postfix": "",
     "delete_cmd_prefix": "del ",
     "library": "var_list.py",
     "varRefreshCmd": "print(var_dic_list())"
    },
    "r": {
     "delete_cmd_postfix": ") ",
     "delete_cmd_prefix": "rm(",
     "library": "var_list.r",
     "varRefreshCmd": "cat(var_dic_list()) "
    }
   },
   "oldHeight": 570.85,
   "position": {
    "height": "40px",
    "left": "1170px",
    "right": "20px",
    "top": "120px",
    "width": "250px"
   },
   "types_to_exclude": [
    "module",
    "function",
    "builtin_function_or_method",
    "instance",
    "_Feature"
   ],
   "varInspector_section_display": "none",
   "window_display": true
  }
 },
 "nbformat": 4,
 "nbformat_minor": 2
}
