{
 "cells": [
  {
   "cell_type": "code",
   "execution_count": null,
   "metadata": {
    "scrolled": false
   },
   "outputs": [],
   "source": [
    "import warnings\n",
    "warnings.filterwarnings('ignore')\n",
    "from data_generator import *\n",
    "from data_augmentation import aug_with_crop\n",
    "import os\n",
    "import matplotlib.pyplot as plt\n",
    "import numpy as np\n",
    "from keras.callbacks import ModelCheckpoint, ReduceLROnPlateau, EarlyStopping, TensorBoard\n",
    "from segmentation_models import Unet\n",
    "from keras.optimizers import Adam\n",
    "from segmentation_models.losses import bce_jaccard_loss, bce_dice_loss\n",
    "from segmentation_models.metrics import iou_score\n",
    "from keras.models import load_model"
   ]
  },
  {
   "cell_type": "code",
   "execution_count": null,
   "metadata": {},
   "outputs": [],
   "source": [
    "train_generator = DataGeneratorFolder(image_path='../../data/training/images', \n",
    "                                      mask_path='../../data/training/groundtruth', \n",
    "                                      batch_size=4,  \n",
    "                                      nb_y_features=1, \n",
    "                                      augmentation=None)\n",
    "print(len(train_generator))\n",
    "\n",
    "test_generator = DataGeneratorFolder(image_path='../../data/training/test_images',\n",
    "                                     mask_path='../../data/training/test_groundtruth',\n",
    "                                     batch_size=4,\n",
    "                                     nb_y_features=1)\n",
    "print(len(test_generator))\n"
   ]
  },
  {
   "cell_type": "code",
   "execution_count": null,
   "metadata": {},
   "outputs": [],
   "source": [
    "class my_model:\n",
    "    def __init__(self, train_generator, test_generator):\n",
    "        self.train_generator = train_generator\n",
    "        self.test_generator = test_generator\n",
    "        \n",
    "    def initialize_callbacks(self):\n",
    "        lr_reducer = ReduceLROnPlateau(\n",
    "            factor=0.1, cooldown=10, patience=10, verbose=1, min_lr=0.1e-5)\n",
    "        mode_autosave = ModelCheckpoint('./saved_models/saved.h5', monitor='val_iou_score',\n",
    "                                        mode='max', save_best_only=True, verbose=1, period=1)\n",
    "        early_stopping = EarlyStopping(patience=10, verbose=1, mode='auto')\n",
    "        tensorboard = TensorBoard(log_dir='./logs/tensorboard', histogram_freq=0,\n",
    "                                  write_graph=True, write_images=False)\n",
    "\n",
    "        self.callbacks = [lr_reducer,\n",
    "                          mode_autosave,\n",
    "                          early_stopping,\n",
    "                          tensorboard]\n",
    "\n",
    "    def model_compile(self):\n",
    "        self.model = Unet(backbone_name='efficientnetb0',\n",
    "                          encoder_weights=None, encoder_freeze=False)\n",
    "        self.model.compile(\n",
    "            optimizer=Adam(), loss=bce_jaccard_loss, metrics=[iou_score])\n",
    "\n",
    "    def model_fit(self):\n",
    "        history = self.model.fit_generator(self.train_generator, \n",
    "                                           shuffle=False, \n",
    "                                           epochs=200, \n",
    "                                           workers=4,\n",
    "                                           use_multiprocessing=True, \n",
    "                                           validation_data=self.test_generator,\n",
    "                                           verbose=1, \n",
    "                                           callbacks=self.callbacks,\n",
    "\n",
    "                                          )\n",
    "        self.history = history\n",
    "\n",
    "    def plot_training_history(self):\n",
    "\n",
    "        plt.plot(self.history.history[\"loss\"])\n",
    "        plt.plot(self.history.history[\"val_loss\"])\n",
    "        plt.ylabel('loss')\n",
    "        plt.xlabel('epoch')\n",
    "        plt.title('model loss')\n",
    "        plt.legend(['train', 'test'], loc='upper left')\n",
    "        plt.show()\n",
    "\n",
    "        plt.plot(self.history.history[\"iou_score\"])\n",
    "        plt.plot(self.history.history[\"val_iou_score\"])\n",
    "        plt.ylabel('accuracy')\n",
    "        plt.xlabel('epoch')\n",
    "        plt.title('model accuracy')\n",
    "        plt.legend(['train', 'test'], loc='upper left')\n",
    "        plt.show()\n",
    "\n",
    "    \n",
    "    def plot_mask_gt_image(self, mask, groud_truth, img):\n",
    "        fig, axs = plt.subplots(1,3, figsize=(20,10))\n",
    "        axs[0].imshow(mask[0].squeeze(-1), cmap=\"Blues\")\n",
    "        axs[1].imshow(groud_truth, cmap=\"Blues\")\n",
    "        axs[2].imshow(img)\n",
    "        plt.show()\n",
    "\n",
    "    def model_load(self, path):\n",
    "        self.model = load_model(path, compile=False)\n",
    "\n",
    "    def predict(self, image):\n",
    "        return self.model.predict(np.expand_dims(image, axis=0))\n",
    "    "
   ]
  },
  {
   "cell_type": "code",
   "execution_count": null,
   "metadata": {
    "scrolled": false
   },
   "outputs": [],
   "source": [
    "u_net_model = my_model(train_generator, test_generator)\n",
    "print('Model initiated')\n",
    "\n",
    "u_net_model.initialize_callbacks()\n",
    "\n",
    "print('callbacks created')\n",
    "\n",
    "u_net_model.model_compile()\n",
    "\n",
    "print('Model compiled')\n",
    "\n",
    "print('Model start fitting')\n",
    "\n",
    "u_net_model.model_fit()\n",
    "\n",
    "print('Model fitted')"
   ]
  },
  {
   "cell_type": "code",
   "execution_count": null,
   "metadata": {},
   "outputs": [],
   "source": [
    "u_net_model.plot_training_history()"
   ]
  },
  {
   "cell_type": "code",
   "execution_count": null,
   "metadata": {},
   "outputs": [],
   "source": [
    "print(train_generator.image_filenames[0])"
   ]
  },
  {
   "cell_type": "code",
   "execution_count": null,
   "metadata": {},
   "outputs": [],
   "source": [
    "im_name = train_generator.image_filenames[0]\n",
    "gr_name = train_generator.mask_filenames[0]\n",
    "#im, gr = train_generator.read_image_mask(im_name, gr_name)\n",
    "pred = u_net_model.predict(imread('../../data/test_set_images/test_1/test_1.png'))"
   ]
  },
  {
   "cell_type": "code",
   "execution_count": null,
   "metadata": {},
   "outputs": [],
   "source": [
    "print(pred.shape)\n",
    "pred = np.squeeze(pred)\n",
    "print(pred)"
   ]
  },
  {
   "cell_type": "code",
   "execution_count": null,
   "metadata": {},
   "outputs": [],
   "source": [
    "plt.figure()\n",
    "plt.imshow(pred)"
   ]
  },
  {
   "cell_type": "code",
   "execution_count": null,
   "metadata": {},
   "outputs": [],
   "source": []
  }
 ],
 "metadata": {
  "kernelspec": {
   "display_name": "Python 3",
   "language": "python",
   "name": "python3"
  },
  "language_info": {
   "codemirror_mode": {
    "name": "ipython",
    "version": 3
   },
   "file_extension": ".py",
   "mimetype": "text/x-python",
   "name": "python",
   "nbconvert_exporter": "python",
   "pygments_lexer": "ipython3",
   "version": "3.6.7"
  },
  "varInspector": {
   "cols": {
    "lenName": 16,
    "lenType": 16,
    "lenVar": 40
   },
   "kernels_config": {
    "python": {
     "delete_cmd_postfix": "",
     "delete_cmd_prefix": "del ",
     "library": "var_list.py",
     "varRefreshCmd": "print(var_dic_list())"
    },
    "r": {
     "delete_cmd_postfix": ") ",
     "delete_cmd_prefix": "rm(",
     "library": "var_list.r",
     "varRefreshCmd": "cat(var_dic_list()) "
    }
   },
   "types_to_exclude": [
    "module",
    "function",
    "builtin_function_or_method",
    "instance",
    "_Feature"
   ],
   "window_display": false
  }
 },
 "nbformat": 4,
 "nbformat_minor": 2
}
