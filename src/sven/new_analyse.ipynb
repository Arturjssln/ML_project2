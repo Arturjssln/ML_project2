{
 "cells": [
  {
   "cell_type": "code",
   "execution_count": 1,
   "metadata": {
    "scrolled": false
   },
   "outputs": [
    {
     "name": "stderr",
     "output_type": "stream",
     "text": [
      "Using TensorFlow backend.\n"
     ]
    },
    {
     "name": "stdout",
     "output_type": "stream",
     "text": [
      "Segmentation Models: using `keras` framework.\n"
     ]
    }
   ],
   "source": [
    "import warnings\n",
    "warnings.filterwarnings('ignore')\n",
    "from data_generator import *\n",
    "from data_augmentation import aug_with_crop\n",
    "import os\n",
    "import matplotlib.pyplot as plt\n",
    "import numpy as np\n",
    "from keras.callbacks import ModelCheckpoint, ReduceLROnPlateau, EarlyStopping, TensorBoard\n",
    "from segmentation_models import Unet\n",
    "from keras.optimizers import Adam\n",
    "from segmentation_models.losses import bce_jaccard_loss, bce_dice_loss\n",
    "from segmentation_models.metrics import iou_score\n",
    "from keras.models import load_model"
   ]
  },
  {
   "cell_type": "code",
   "execution_count": 2,
   "metadata": {},
   "outputs": [
    {
     "name": "stdout",
     "output_type": "stream",
     "text": [
      "13\n",
      "13\n"
     ]
    }
   ],
   "source": [
    "train_generator = DataGeneratorFolder(image_path='../../data/training/images', \n",
    "                                      mask_path='../../data/training/groundtruth', \n",
    "                                      batch_size=4,  \n",
    "                                      nb_y_features=1, \n",
    "                                      augmentation=None)\n",
    "print(len(train_generator))\n",
    "\n",
    "test_generator = DataGeneratorFolder(image_path='../../data/training/test_images',\n",
    "                                     mask_path='../../data/training/test_groundtruth',\n",
    "                                     batch_size=4,\n",
    "                                     nb_y_features=1)\n",
    "print(len(test_generator))\n"
   ]
  },
  {
   "cell_type": "code",
   "execution_count": 3,
   "metadata": {},
   "outputs": [],
   "source": [
    "class my_model:\n",
    "    def __init__(self, train_generator, test_generator):\n",
    "        self.train_generator = train_generator\n",
    "        self.test_generator = test_generator\n",
    "        \n",
    "    def initialize_callbacks(self):\n",
    "        lr_reducer = ReduceLROnPlateau(\n",
    "            factor=0.1, cooldown=10, patience=10, verbose=1, min_lr=0.1e-5)\n",
    "        mode_autosave = ModelCheckpoint('./saved_models/saved.h5', monitor='val_iou_score',\n",
    "                                        mode='max', save_best_only=True, verbose=1, period=1)\n",
    "        early_stopping = EarlyStopping(patience=10, verbose=1, mode='auto')\n",
    "        tensorboard = TensorBoard(log_dir='./logs/tensorboard', histogram_freq=0,\n",
    "                                  write_graph=True, write_images=False)\n",
    "\n",
    "        self.callbacks = [lr_reducer,\n",
    "                          mode_autosave,\n",
    "                          early_stopping,\n",
    "                          tensorboard]\n",
    "\n",
    "    def model_compile(self):\n",
    "        self.model = Unet(backbone_name='efficientnetb0',\n",
    "                          encoder_weights=None, encoder_freeze=False)\n",
    "        self.model.compile(\n",
    "            optimizer=Adam(), loss=bce_jaccard_loss, metrics=[iou_score])\n",
    "\n",
    "    def model_fit(self):\n",
    "        history = self.model.fit_generator(self.train_generator, \n",
    "                                           shuffle=False, \n",
    "                                           epochs=200, \n",
    "                                           workers=4,\n",
    "                                           use_multiprocessing=True, \n",
    "                                           validation_data=self.test_generator,\n",
    "                                           verbose=1, \n",
    "                                           callbacks=self.callbacks,\n",
    "\n",
    "                                          )\n",
    "        self.history = history\n",
    "\n",
    "    def plot_training_history(self):\n",
    "\n",
    "        plt.plot(self.history.history[\"loss\"])\n",
    "        plt.plot(self.history.history[\"val_loss\"])\n",
    "        plt.ylabel('loss')\n",
    "        plt.xlabel('epoch')\n",
    "        plt.title('model loss')\n",
    "        plt.legend(['train', 'test'], loc='upper left')\n",
    "        plt.show()\n",
    "\n",
    "        plt.plot(self.history.history[\"iou_score\"])\n",
    "        plt.plot(self.history.history[\"val_iou_score\"])\n",
    "        plt.ylabel('accuracy')\n",
    "        plt.xlabel('epoch')\n",
    "        plt.title('model accuracy')\n",
    "        plt.legend(['train', 'test'], loc='upper left')\n",
    "        plt.show()\n",
    "\n",
    "    \n",
    "    def plot_mask_gt_image(self, mask, groud_truth, img):\n",
    "        fig, axs = plt.subplots(1,3, figsize=(20,10))\n",
    "        axs[0].imshow(mask[0].squeeze(-1), cmap=\"Blues\")\n",
    "        axs[1].imshow(groud_truth, cmap=\"Blues\")\n",
    "        axs[2].imshow(img)\n",
    "        plt.show()\n",
    "\n",
    "    def model_load(self, path):\n",
    "        self.model = load_model(path, compile=False)\n",
    "\n",
    "    def predict(self, image):\n",
    "        return self.model.predict(np.expand_dims(image, axis=0))\n",
    "    "
   ]
  },
  {
   "cell_type": "code",
   "execution_count": 4,
   "metadata": {
    "scrolled": false
   },
   "outputs": [
    {
     "name": "stdout",
     "output_type": "stream",
     "text": [
      "Model initiated\n",
      "callbacks created\n",
      "WARNING:tensorflow:From c:\\users\\glagl\\.conda\\envs\\ml\\lib\\site-packages\\tensorflow\\python\\ops\\resource_variable_ops.py:435: colocate_with (from tensorflow.python.framework.ops) is deprecated and will be removed in a future version.\n",
      "Instructions for updating:\n",
      "Colocations handled automatically by placer.\n",
      "Model compiled\n",
      "Model start fitting\n",
      "WARNING:tensorflow:From c:\\users\\glagl\\.conda\\envs\\ml\\lib\\site-packages\\tensorflow\\python\\ops\\math_ops.py:3066: to_int32 (from tensorflow.python.ops.math_ops) is deprecated and will be removed in a future version.\n",
      "Instructions for updating:\n",
      "Use tf.cast instead.\n",
      "Epoch 1/200\n",
      "13/13 [==============================] - 141s 11s/step - loss: 1.0798 - iou_score: 0.5311 - val_loss: 0.2834 - val_iou_score: 0.9596\n",
      "\n",
      "Epoch 00001: val_iou_score improved from -inf to 0.95956, saving model to ./saved_models/saved.h5\n",
      "Epoch 2/200\n",
      "13/13 [==============================] - 117s 9s/step - loss: 1.1344 - iou_score: 0.4503 - val_loss: 0.7943 - val_iou_score: 0.3961\n",
      "\n",
      "Epoch 00002: val_iou_score did not improve from 0.95956\n",
      "Epoch 3/200\n",
      "13/13 [==============================] - 127s 10s/step - loss: 1.0026 - iou_score: 0.4620 - val_loss: 0.1816 - val_iou_score: 0.9016\n",
      "\n",
      "Epoch 00003: val_iou_score did not improve from 0.95956\n",
      "Epoch 4/200\n",
      "13/13 [==============================] - 129s 10s/step - loss: 0.2947 - iou_score: 0.8823 - val_loss: -0.5086 - val_iou_score: 0.8476\n",
      "\n",
      "Epoch 00004: val_iou_score did not improve from 0.95956\n",
      "Epoch 5/200\n",
      "13/13 [==============================] - 120s 9s/step - loss: 1.2054 - iou_score: 0.3067 - val_loss: 1.1459 - val_iou_score: 0.5755\n",
      "\n",
      "Epoch 00005: val_iou_score did not improve from 0.95956\n",
      "Epoch 6/200\n",
      "13/13 [==============================] - 119s 9s/step - loss: 0.7299 - iou_score: 0.3008 - val_loss: -3.1056 - val_iou_score: 0.6290\n",
      "\n",
      "Epoch 00006: val_iou_score did not improve from 0.95956\n",
      "Epoch 7/200\n",
      "13/13 [==============================] - 120s 9s/step - loss: 0.3853 - iou_score: 0.6914 - val_loss: -5.6996 - val_iou_score: 0.7183\n",
      "\n",
      "Epoch 00007: val_iou_score did not improve from 0.95956\n",
      "Epoch 8/200\n",
      "13/13 [==============================] - 120s 9s/step - loss: -0.3924 - iou_score: 0.9488 - val_loss: -2.2073 - val_iou_score: 0.6143\n",
      "\n",
      "Epoch 00008: val_iou_score did not improve from 0.95956\n",
      "Epoch 9/200\n",
      "13/13 [==============================] - 121s 9s/step - loss: 0.2096 - iou_score: 0.5612 - val_loss: 0.5290 - val_iou_score: 0.6458\n",
      "\n",
      "Epoch 00009: val_iou_score did not improve from 0.95956\n",
      "Epoch 10/200\n",
      "13/13 [==============================] - 119s 9s/step - loss: -0.8813 - iou_score: 1.0243 - val_loss: -6.0021 - val_iou_score: 0.6401\n",
      "\n",
      "Epoch 00010: val_iou_score did not improve from 0.95956\n",
      "Epoch 11/200\n",
      "13/13 [==============================] - 119s 9s/step - loss: 0.3238 - iou_score: 0.4937 - val_loss: -1.8229 - val_iou_score: 0.3587\n",
      "\n",
      "Epoch 00011: val_iou_score did not improve from 0.95956\n",
      "Epoch 12/200\n",
      "13/13 [==============================] - 120s 9s/step - loss: 0.3464 - iou_score: 0.5057 - val_loss: 1.7079 - val_iou_score: 0.6524\n",
      "\n",
      "Epoch 00012: val_iou_score did not improve from 0.95956\n",
      "Epoch 13/200\n",
      "13/13 [==============================] - 120s 9s/step - loss: 0.4118 - iou_score: 0.6604 - val_loss: 1.7083 - val_iou_score: 0.5443\n",
      "\n",
      "Epoch 00013: val_iou_score did not improve from 0.95956\n",
      "Epoch 14/200\n",
      "13/13 [==============================] - 119s 9s/step - loss: -0.7254 - iou_score: 0.8925 - val_loss: 1.7153 - val_iou_score: 0.7503\n",
      "\n",
      "Epoch 00014: val_iou_score did not improve from 0.95956\n",
      "Epoch 15/200\n",
      "13/13 [==============================] - 120s 9s/step - loss: -1.8953 - iou_score: 1.0116 - val_loss: -4.8618 - val_iou_score: 0.7913\n",
      "\n",
      "Epoch 00015: val_iou_score did not improve from 0.95956\n",
      "Epoch 16/200\n",
      "13/13 [==============================] - 119s 9s/step - loss: 0.4728 - iou_score: 0.6012 - val_loss: -9.8169 - val_iou_score: 0.5372\n",
      "\n",
      "Epoch 00016: val_iou_score did not improve from 0.95956\n",
      "Epoch 17/200\n",
      "13/13 [==============================] - 119s 9s/step - loss: -0.1477 - iou_score: 0.4637 - val_loss: -10.1622 - val_iou_score: 1.0209\n",
      "\n",
      "Epoch 00017: val_iou_score improved from 0.95956 to 1.02090, saving model to ./saved_models/saved.h5\n",
      "Epoch 18/200\n",
      "13/13 [==============================] - 116s 9s/step - loss: -0.2840 - iou_score: 0.8603 - val_loss: -5.7955 - val_iou_score: 0.8101\n",
      "\n",
      "Epoch 00018: val_iou_score did not improve from 1.02090\n",
      "Epoch 19/200\n",
      "13/13 [==============================] - 119s 9s/step - loss: -0.5502 - iou_score: 0.6320 - val_loss: 1.7267 - val_iou_score: 0.6275\n",
      "\n",
      "Epoch 00019: val_iou_score did not improve from 1.02090\n",
      "Epoch 20/200\n",
      "13/13 [==============================] - 119s 9s/step - loss: -0.4795 - iou_score: 0.8420 - val_loss: 1.7311 - val_iou_score: 0.4461\n",
      "\n",
      "Epoch 00020: val_iou_score did not improve from 1.02090\n",
      "Epoch 21/200\n",
      "13/13 [==============================] - 120s 9s/step - loss: -1.7009 - iou_score: 0.8528 - val_loss: -6.7550 - val_iou_score: 0.8664\n",
      "\n",
      "Epoch 00021: val_iou_score did not improve from 1.02090\n",
      "Epoch 22/200\n",
      "13/13 [==============================] - 119s 9s/step - loss: 1.0775 - iou_score: 0.2629 - val_loss: -2.2617 - val_iou_score: 1.0243\n",
      "\n",
      "Epoch 00022: val_iou_score improved from 1.02090 to 1.02428, saving model to ./saved_models/saved.h5\n",
      "Epoch 23/200\n",
      "13/13 [==============================] - 118s 9s/step - loss: -5.1020 - iou_score: 1.0153 - val_loss: -3.4295 - val_iou_score: 0.8552\n",
      "\n",
      "Epoch 00023: val_iou_score did not improve from 1.02428\n",
      "Epoch 24/200\n",
      "13/13 [==============================] - 120s 9s/step - loss: -2.8144 - iou_score: 0.7466 - val_loss: -0.0435 - val_iou_score: 0.7787\n",
      "\n",
      "Epoch 00024: val_iou_score did not improve from 1.02428\n",
      "Epoch 25/200\n",
      "13/13 [==============================] - 119s 9s/step - loss: -2.9328 - iou_score: 0.8978 - val_loss: 1.7615 - val_iou_score: 0.4515\n",
      "\n",
      "Epoch 00025: val_iou_score did not improve from 1.02428\n",
      "Epoch 26/200\n",
      "13/13 [==============================] - 120s 9s/step - loss: -1.4305 - iou_score: 0.4017 - val_loss: 1.3187 - val_iou_score: 0.6671\n",
      "\n",
      "Epoch 00026: val_iou_score did not improve from 1.02428\n",
      "Epoch 27/200\n",
      "13/13 [==============================] - 120s 9s/step - loss: -4.2313 - iou_score: 0.8602 - val_loss: -9.6395 - val_iou_score: 1.1713\n",
      "\n",
      "Epoch 00027: ReduceLROnPlateau reducing learning rate to 0.00010000000474974513.\n",
      "\n",
      "Epoch 00027: val_iou_score improved from 1.02428 to 1.17131, saving model to ./saved_models/saved.h5\n",
      "Epoch 00027: early stopping\n",
      "Model fitted\n"
     ]
    }
   ],
   "source": [
    "u_net_model = my_model(train_generator, test_generator)\n",
    "print('Model initiated')\n",
    "\n",
    "u_net_model.initialize_callbacks()\n",
    "\n",
    "print('callbacks created')\n",
    "\n",
    "u_net_model.model_compile()\n",
    "\n",
    "print('Model compiled')\n",
    "\n",
    "print('Model start fitting')\n",
    "\n",
    "u_net_model.model_fit()\n",
    "\n",
    "print('Model fitted')"
   ]
  },
  {
   "cell_type": "code",
   "execution_count": 5,
   "metadata": {},
   "outputs": [
    {
     "data": {
      "image/png": "[encoded data removed]",
      "text/plain": [
       "<Figure size 432x288 with 1 Axes>"
      ]
     },
     "metadata": {
      "needs_background": "light"
     },
     "output_type": "display_data"
    },
    {
     "data": {
      "image/png": "[encoded data removed]",
      "text/plain": [
       "<Figure size 432x288 with 1 Axes>"
      ]
     },
     "metadata": {
      "needs_background": "light"
     },
     "output_type": "display_data"
    }
   ],
   "source": [
    "u_net_model.plot_training_history()"
   ]
  },
  {
   "cell_type": "code",
   "execution_count": 6,
   "metadata": {},
   "outputs": [
    {
     "name": "stdout",
     "output_type": "stream",
     "text": [
      "../../data/training/images/satImage_001.png\n"
     ]
    }
   ],
   "source": [
    "print(train_generator.image_filenames[0])"
   ]
  },
  {
   "cell_type": "code",
   "execution_count": 10,
   "metadata": {},
   "outputs": [],
   "source": [
    "im_name = train_generator.image_filenames[0]\n",
    "gr_name = train_generator.mask_filenames[0]\n",
    "#im, gr = train_generator.read_image_mask(im_name, gr_name)\n",
    "pred = u_net_model.predict(imread('../../data/test_set_images/test_1/test_1.png'))"
   ]
  },
  {
   "cell_type": "code",
   "execution_count": 11,
   "metadata": {},
   "outputs": [
    {
     "name": "stdout",
     "output_type": "stream",
     "text": [
      "(1, 608, 608, 1)\n",
      "[[nan nan nan ... nan nan nan]\n",
      " [nan nan nan ... nan nan nan]\n",
      " [nan nan nan ... nan nan nan]\n",
      " ...\n",
      " [nan nan nan ... nan nan nan]\n",
      " [nan nan nan ... nan nan nan]\n",
      " [nan nan nan ... nan nan nan]]\n"
     ]
    }
   ],
   "source": [
    "print(pred.shape)\n",
    "pred = np.squeeze(pred)\n",
    "print(pred)"
   ]
  },
  {
   "cell_type": "code",
   "execution_count": 12,
   "metadata": {},
   "outputs": [
    {
     "data": {
      "text/plain": [
       "<matplotlib.image.AxesImage at 0x21234e43e80>"
      ]
     },
     "execution_count": 12,
     "metadata": {},
     "output_type": "execute_result"
    },
    {
     "data": {
      "image/png": "[encoded data removed]",
      "text/plain": [
       "<Figure size 432x288 with 1 Axes>"
      ]
     },
     "metadata": {
      "needs_background": "light"
     },
     "output_type": "display_data"
    }
   ],
   "source": [
    "plt.figure()\n",
    "plt.imshow(pred)"
   ]
  },
  {
   "cell_type": "code",
   "execution_count": null,
   "metadata": {},
   "outputs": [],
   "source": []
  }
 ],
 "metadata": {
  "kernelspec": {
   "display_name": "Python 3",
   "language": "python",
   "name": "python3"
  },
  "language_info": {
   "codemirror_mode": {
    "name": "ipython",
    "version": 3
   },
   "file_extension": ".py",
   "mimetype": "text/x-python",
   "name": "python",
   "nbconvert_exporter": "python",
   "pygments_lexer": "ipython3",
   "version": "3.6.7"
  },
  "varInspector": {
   "cols": {
    "lenName": 16,
    "lenType": 16,
    "lenVar": 40
   },
   "kernels_config": {
    "python": {
     "delete_cmd_postfix": "",
     "delete_cmd_prefix": "del ",
     "library": "var_list.py",
     "varRefreshCmd": "print(var_dic_list())"
    },
    "r": {
     "delete_cmd_postfix": ") ",
     "delete_cmd_prefix": "rm(",
     "library": "var_list.r",
     "varRefreshCmd": "cat(var_dic_list()) "
    }
   },
   "types_to_exclude": [
    "module",
    "function",
    "builtin_function_or_method",
    "instance",
    "_Feature"
   ],
   "window_display": false
  }
 },
 "nbformat": 4,
 "nbformat_minor": 2
}
