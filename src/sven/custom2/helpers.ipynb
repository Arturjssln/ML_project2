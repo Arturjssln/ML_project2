{
 "cells": [
  {
   "cell_type": "markdown",
   "metadata": {},
   "source": [
    "# Imports"
   ]
  },
  {
   "cell_type": "code",
   "execution_count": 2,
   "metadata": {},
   "outputs": [],
   "source": [
    "import matplotlib.image as mpimg\n",
    "import numpy as np\n",
    "import matplotlib.pyplot as plt\n",
    "import os,sys\n",
    "from PIL import Image\n",
    "import re"
   ]
  },
  {
   "cell_type": "code",
   "execution_count": 3,
   "metadata": {},
   "outputs": [],
   "source": [
    "def load_image(infilename):\n",
    "    \"\"\" Load an image from disk. \"\"\"\n",
    "    return mpimg.imread(infilename)\n",
    "\n",
    "def pad_image(data, padding):\n",
    "    \"\"\"\n",
    "    Extend the canvas of an image. Mirror boundary conditions are applied.\n",
    "    \"\"\"\n",
    "    if len(data.shape) < 3:\n",
    "        # Greyscale image (ground truth)\n",
    "        data = np.lib.pad(data, ((padding, padding), (padding, padding)), 'reflect')\n",
    "    else:\n",
    "        # RGB image\n",
    "        data = np.lib.pad(data, ((padding, padding), (padding, padding), (0,0)), 'reflect')\n",
    "    return data\n",
    "    \n",
    "def img_crop_gt(im, w, h, stride):\n",
    "    \"\"\" Crop an image into patches (this method is intended for ground truth images). \"\"\"\n",
    "    assert len(im.shape) == 2, 'Expected greyscale image.'\n",
    "    list_patches = []\n",
    "    imgwidth = im.shape[0]\n",
    "    imgheight = im.shape[1]\n",
    "    for i in range(0,imgheight,stride):\n",
    "        for j in range(0,imgwidth,stride):\n",
    "            im_patch = im[j:j+w, i:i+h]\n",
    "            list_patches.append(im_patch)\n",
    "    return list_patches\n",
    "    \n",
    "def img_crop(im, w, h, stride, padding):\n",
    "    \"\"\" Crop an image into patches, taking into account mirror boundary conditions. \"\"\"\n",
    "    assert len(im.shape) == 3, 'Expected RGB image.'\n",
    "    list_patches = []\n",
    "    imgwidth = im.shape[0]\n",
    "    imgheight = im.shape[1]\n",
    "    im = np.lib.pad(im, ((padding, padding), (padding, padding), (0,0)), 'reflect')\n",
    "    for i in range(padding,imgheight+padding,stride):\n",
    "        for j in range(padding,imgwidth+padding,stride):\n",
    "            im_patch = im[j-padding:j+w+padding, i-padding:i+h+padding, :]\n",
    "            list_patches.append(im_patch)\n",
    "    return list_patches\n",
    "    \n",
    "def create_patches(X, patch_size, stride, padding):\n",
    "    img_patches = np.asarray([img_crop(X[i], patch_size, patch_size, stride, padding) for i in range(X.shape[0])])\n",
    "    # Linearize list\n",
    "    img_patches = img_patches.reshape(-1, img_patches.shape[2], img_patches.shape[3], img_patches.shape[4])\n",
    "    return img_patches\n",
    "    \n",
    "def create_patches_gt(X, patch_size, stride):\n",
    "    img_patches = np.asarray([img_crop_gt(X[i], patch_size, patch_size, stride) for i in range(X.shape[0])])\n",
    "    # Linearize list\n",
    "    img_patches = img_patches.reshape(-1, img_patches.shape[2], img_patches.shape[3])\n",
    "    return img_patches\n",
    "    \n",
    "def group_patches(patches, num_images):\n",
    "    return patches.reshape(num_images, -1)\n",
    "\n",
    "def extract_img_features(filename, stride):\n",
    "    img = load_image(filename)\n",
    "    img_patches = img_crop(img, patch_size, patch_size, stride, padding)\n",
    "    X = np.asarray([img_patches[i] for i in range(len(img_patches))])\n",
    "    return X\n",
    "\n",
    "def mask_to_submission_strings(model, image_filename):\n",
    "    \"\"\" Reads a single image and outputs the strings that should go into the submission file. \"\"\"\n",
    "    img_number = int(re.search(r\"\\d+\", image_filename).group(0))\n",
    "    Xi = load_image(image_filename)\n",
    "    Xi = Xi.reshape(1, Xi.shape[0], Xi.shape[1], Xi.shape[2])\n",
    "    Zi = model.classify(Xi)\n",
    "    Zi = Zi.reshape(-1)\n",
    "    patch_size = 16\n",
    "    nb = 0\n",
    "    print(\"Processing \" + image_filename)\n",
    "    for j in range(0, Xi.shape[2], patch_size):\n",
    "        for i in range(0, Xi.shape[1], patch_size):\n",
    "            label = int(Zi[nb])\n",
    "            nb += 1\n",
    "            yield(\"{:03d}_{}_{},{}\".format(img_number, j, i, label))\n",
    "\n",
    "\n",
    "def generate_submission(model, submission_filename, *image_filenames):\n",
    "    \"\"\" Generate a .csv containing the classification of the test set. \"\"\"\n",
    "    with open(submission_filename, 'w') as f:\n",
    "        f.write('id,prediction\\n')\n",
    "        for fn in image_filenames[0:]:\n",
    "            f.writelines('{}\\n'.format(s) for s in mask_to_submission_strings(model, fn))"
   ]
  },
  {
   "cell_type": "code",
   "execution_count": null,
   "metadata": {},
   "outputs": [],
   "source": []
  }
 ],
 "metadata": {
  "kernelspec": {
   "display_name": "Python 3",
   "language": "python",
   "name": "python3"
  },
  "language_info": {
   "codemirror_mode": {
    "name": "ipython",
    "version": 3
   },
   "file_extension": ".py",
   "mimetype": "text/x-python",
   "name": "python",
   "nbconvert_exporter": "python",
   "pygments_lexer": "ipython3",
   "version": "3.6.9"
  },
  "varInspector": {
   "cols": {
    "lenName": 16,
    "lenType": 16,
    "lenVar": 40
   },
   "kernels_config": {
    "python": {
     "delete_cmd_postfix": "",
     "delete_cmd_prefix": "del ",
     "library": "var_list.py",
     "varRefreshCmd": "print(var_dic_list())"
    },
    "r": {
     "delete_cmd_postfix": ") ",
     "delete_cmd_prefix": "rm(",
     "library": "var_list.r",
     "varRefreshCmd": "cat(var_dic_list()) "
    }
   },
   "types_to_exclude": [
    "module",
    "function",
    "builtin_function_or_method",
    "instance",
    "_Feature"
   ],
   "window_display": false
  }
 },
 "nbformat": 4,
 "nbformat_minor": 2
}
