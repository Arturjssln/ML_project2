{
  "nbformat": 4,
  "nbformat_minor": 0,
  "metadata": {
    "kernelspec": {
      "name": "python3",
      "display_name": "Python 3"
    },
    "language_info": {
      "codemirror_mode": {
        "name": "ipython",
        "version": 3
      },
      "file_extension": ".py",
      "mimetype": "text/x-python",
      "name": "python",
      "nbconvert_exporter": "python",
      "pygments_lexer": "ipython3",
      "version": "3.7.4"
    },
    "varInspector": {
      "cols": {
        "lenName": 16,
        "lenType": 16,
        "lenVar": 40
      },
      "kernels_config": {
        "python": {
          "delete_cmd_postfix": "",
          "delete_cmd_prefix": "del ",
          "library": "var_list.py",
          "varRefreshCmd": "print(var_dic_list())"
        },
        "r": {
          "delete_cmd_postfix": ") ",
          "delete_cmd_prefix": "rm(",
          "library": "var_list.r",
          "varRefreshCmd": "cat(var_dic_list()) "
        }
      },
      "types_to_exclude": [
        "module",
        "function",
        "builtin_function_or_method",
        "instance",
        "_Feature"
      ],
      "window_display": false
    },
    "colab": {
      "name": "Full_train.ipynb",
      "provenance": [],
      "collapsed_sections": [],
      "toc_visible": true
    },
    "accelerator": "GPU"
  },
  "cells": [
    {
      "cell_type": "markdown",
      "metadata": {
        "id": "dEDHUTghQ6y9",
        "colab_type": "text"
      },
      "source": [
        "# Imports"
      ]
    },
    {
      "cell_type": "code",
      "metadata": {
        "id": "7w-mauGjRlLx",
        "colab_type": "code",
        "colab": {}
      },
      "source": [
        "import numpy as np\n",
        "import os\n",
        "import sys\n",
        "%pip install -U imgaug\n",
        "\n",
        "IN_COLAB = 'google.colab' in sys.modules"
      ],
      "execution_count": 0,
      "outputs": []
    },
    {
      "cell_type": "markdown",
      "metadata": {
        "id": "aQQySTCQQ6zD",
        "colab_type": "text"
      },
      "source": [
        "## Import notebooks"
      ]
    },
    {
      "cell_type": "code",
      "metadata": {
        "id": "Ykv6Z5PfQ6zE",
        "colab_type": "code",
        "outputId": "cec6501f-2305-4270-b90e-d9d6e74a436d",
        "colab": {
          "base_uri": "https://localhost:8080/",
          "height": 80
        }
      },
      "source": [
        "from helpers import *\n",
        "from CNNv2 import CNN"
      ],
      "execution_count": 2,
      "outputs": [
        {
          "output_type": "stream",
          "text": [
            "Using TensorFlow backend.\n"
          ],
          "name": "stderr"
        },
        {
          "output_type": "display_data",
          "data": {
            "text/html": [
              "<p style=\"color: red;\">\n",
              "The default version of TensorFlow in Colab will soon switch to TensorFlow 2.x.<br>\n",
              "We recommend you <a href=\"https://www.tensorflow.org/guide/migrate\" target=\"_blank\">upgrade</a> now \n",
              "or ensure your notebook will continue to use TensorFlow 1.x via the <code>%tensorflow_version 1.x</code> magic:\n",
              "<a href=\"https://colab.research.google.com/notebooks/tensorflow_version.ipynb\" target=\"_blank\">more info</a>.</p>\n"
            ],
            "text/plain": [
              "<IPython.core.display.HTML object>"
            ]
          },
          "metadata": {
            "tags": []
          }
        }
      ]
    },
    {
      "cell_type": "markdown",
      "metadata": {
        "id": "s6DG7KEiQ6zH",
        "colab_type": "text"
      },
      "source": [
        "# load images"
      ]
    },
    {
      "cell_type": "code",
      "metadata": {
        "id": "XrWYKoQlQ6zI",
        "colab_type": "code",
        "outputId": "c1b4d02d-74f7-478b-aa67-7a82aeadf8f5",
        "colab": {
          "base_uri": "https://localhost:8080/",
          "height": 68
        }
      },
      "source": [
        "# Load the training set\n",
        "if (IN_COLAB):\n",
        "    from google.colab import drive\n",
        "    drive.mount('/gdrive')\n",
        "    root_dir = \"/gdrive/My Drive/ML/training/\"\n",
        "else:\n",
        "    root_dir = \"training/\"\n",
        "\n",
        "image_dir = root_dir + \"images/\"\n",
        "files = os.listdir(image_dir)\n",
        "n = len(files)\n",
        "print(\"Loading \" + str(n) + \" images\")\n",
        "imgs = np.asarray([load_image(image_dir + files[i]) for i in range(n)])\n",
        "\n",
        "gt_dir = root_dir + \"groundtruth/\"\n",
        "print(\"Loading \" + str(n) + \" groundtruth\")\n",
        "gt_imgs = np.asarray([load_image(gt_dir + files[i]) for i in range(n)])"
      ],
      "execution_count": 3,
      "outputs": [
        {
          "output_type": "stream",
          "text": [
            "Drive already mounted at /gdrive; to attempt to forcibly remount, call drive.mount(\"/gdrive\", force_remount=True).\n",
            "Loading 100 images\n",
            "Loading 100 groundtruth\n"
          ],
          "name": "stdout"
        }
      ]
    },
    {
      "cell_type": "markdown",
      "metadata": {
        "id": "AzpgKfIXQ6zK",
        "colab_type": "text"
      },
      "source": [
        "# Load model"
      ]
    },
    {
      "cell_type": "code",
      "metadata": {
        "id": "9-cY8xxKQ6zL",
        "colab_type": "code",
        "colab": {}
      },
      "source": [
        "model = CNN(rootdir=root_dir, window_size=256, nb_epochs=5, train_batch_size=16)"
      ],
      "execution_count": 0,
      "outputs": []
    },
    {
      "cell_type": "markdown",
      "metadata": {
        "id": "O93Jd6gpQ6zN",
        "colab_type": "text"
      },
      "source": [
        "## Train model"
      ]
    },
    {
      "cell_type": "code",
      "metadata": {
        "id": "w55VLgP9Q6zQ",
        "colab_type": "code",
        "colab": {}
      },
      "source": [
        "#model.load(os.path.join(root_dir, 'best_003.h5'))\n",
        "#model.load('saved_weights.h5') # set initial_epoch to resume training\n",
        "INITIAL_EPOCH = 0"
      ],
      "execution_count": 0,
      "outputs": []
    },
    {
      "cell_type": "code",
      "metadata": {
        "scrolled": false,
        "id": "g8-gSlj4Q6zS",
        "colab_type": "code",
        "outputId": "587f1add-5845-4651-edde-de16dfd265a1",
        "colab": {
          "base_uri": "https://localhost:8080/",
          "height": 34
        }
      },
      "source": [
        "model.train(imgs, gt_imgs, initial_epoch=INITIAL_EPOCH)"
      ],
      "execution_count": 0,
      "outputs": [
        {
          "output_type": "stream",
          "text": [
            "246/750 [========>.....................] - ETA: 18:48 - loss: 0.6893 - acc: 0.8153"
          ],
          "name": "stdout"
        }
      ]
    },
    {
      "cell_type": "code",
      "metadata": {
        "id": "OXSd8iJP7Aq8",
        "colab_type": "code",
        "colab": {}
      },
      "source": [
        "model.save('saved_weights.h5')"
      ],
      "execution_count": 0,
      "outputs": []
    }
  ]
}