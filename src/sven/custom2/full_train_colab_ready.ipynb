{
 "cells": [
  {
   "cell_type": "markdown",
   "metadata": {
    "colab_type": "text",
    "id": "dEDHUTghQ6y9"
   },
   "source": [
    "# Imports"
   ]
  },
  {
   "cell_type": "code",
   "execution_count": null,
   "metadata": {
    "colab": {},
    "colab_type": "code",
    "id": "IsCZdEtPH4lq"
   },
   "outputs": [],
   "source": [
    "MODEL_NAME=\"V2.1.009\""
   ]
  },
  {
   "cell_type": "code",
   "execution_count": null,
   "metadata": {
    "colab": {
     "base_uri": "https://localhost:8080/",
     "height": 423
    },
    "colab_type": "code",
    "id": "7w-mauGjRlLx",
    "outputId": "6de1101d-ada0-4b48-e371-c23770e550a7"
   },
   "outputs": [],
   "source": [
    "import numpy as np\n",
    "import os\n",
    "import sys\n",
    "%pip install -U imgaug\n",
    "\n",
    "from helpers import *\n",
    "from CNNv2 import CNN\n",
    "\n",
    "IN_COLAB = 'google.colab' in sys.modules"
   ]
  },
  {
   "cell_type": "markdown",
   "metadata": {
    "colab_type": "text",
    "id": "s6DG7KEiQ6zH"
   },
   "source": [
    "# Load images"
   ]
  },
  {
   "cell_type": "code",
   "execution_count": null,
   "metadata": {
    "colab": {
     "base_uri": "https://localhost:8080/",
     "height": 68
    },
    "colab_type": "code",
    "id": "XrWYKoQlQ6zI",
    "outputId": "2fb197ea-7647-4ac1-cbfc-6c0c6e25dd32"
   },
   "outputs": [],
   "source": [
    "# Load the training set\n",
    "if (IN_COLAB):\n",
    "    from google.colab import drive\n",
    "    drive.mount('/gdrive')\n",
    "    root_dir = \"/gdrive/My Drive/ML/training/\"\n",
    "else:\n",
    "    root_dir = \"training/\"\n",
    "\n",
    "image_dir = root_dir + \"images/\"\n",
    "files = os.listdir(image_dir)\n",
    "n = len(files)\n",
    "print(\"Loading \" + str(n) + \" images\")\n",
    "imgs = np.asarray([load_image(image_dir + files[i]) for i in range(n)])\n",
    "\n",
    "gt_dir = root_dir + \"groundtruth/\"\n",
    "print(\"Loading \" + str(n) + \" groundtruth\")\n",
    "gt_imgs = np.asarray([load_image(gt_dir + files[i]) for i in range(n)])"
   ]
  },
  {
   "cell_type": "markdown",
   "metadata": {
    "colab_type": "text",
    "id": "AzpgKfIXQ6zK"
   },
   "source": [
    "# Load model"
   ]
  },
  {
   "cell_type": "code",
   "execution_count": null,
   "metadata": {
    "colab": {
     "base_uri": "https://localhost:8080/",
     "height": 479
    },
    "colab_type": "code",
    "id": "9-cY8xxKQ6zL",
    "outputId": "0035b14d-cd13-4ef8-b2f1-829621255575"
   },
   "outputs": [],
   "source": [
    "model = CNN(\n",
    "    rootdir=root_dir,\n",
    "    window_size=128,\n",
    "    lk_alpha=0.1,\n",
    "    nb_epochs=30,\n",
    "    adjust_metric='val_f1',\n",
    "    save_metric='val_iou',\n",
    "    train_batch_size=32,\n",
    "    val_batch_size=8,\n",
    "    random_seed=1000,\n",
    "    validation_size=0.1,\n",
    "    best_model_filename=f'{MODEL_NAME}.h5',\n",
    "    log_csv_filename=f'{MODEL_NAME}.csv')"
   ]
  },
  {
   "cell_type": "markdown",
   "metadata": {
    "colab_type": "text",
    "id": "Gkx7lPXDtNMh"
   },
   "source": [
    "# Split dataset\n",
    "\n",
    "> This step is not necessary when preparing submission but it is to compare different models and/or parameters."
   ]
  },
  {
   "cell_type": "code",
   "execution_count": null,
   "metadata": {
    "colab": {
     "base_uri": "https://localhost:8080/",
     "height": 34
    },
    "colab_type": "code",
    "id": "A4GZ0_EttU9e",
    "outputId": "4be642e3-4e6b-4231-ee8b-b5d2e63199fe"
   },
   "outputs": [],
   "source": [
    "TEST_PROPORTION = 0.1\n",
    "X_train, X_test, y_train, y_test = model.split_data(imgs, gt_imgs, rate=TEST_PROPORTION, seed=42)\n",
    "print(X_test.shape[0], 'test images;', X_train.shape[0], 'train images')"
   ]
  },
  {
   "cell_type": "markdown",
   "metadata": {
    "colab_type": "text",
    "id": "O93Jd6gpQ6zN"
   },
   "source": [
    "## Train model (and save it)"
   ]
  },
  {
   "cell_type": "code",
   "execution_count": null,
   "metadata": {
    "colab": {},
    "colab_type": "code",
    "id": "w55VLgP9Q6zQ"
   },
   "outputs": [],
   "source": [
    "#model.load(os.path.join(root_dir, f'{MODEL_NAME}-saved_weights.h5'))\n",
    "#model.load(os.path.join(root_dir, f'{MODEL_NAME}.h5'))\n",
    "#model.load(os.path.join(root_dir, 'models', 'another_model.h5'))\n",
    "INITIAL_EPOCH = 0"
   ]
  },
  {
   "cell_type": "code",
   "execution_count": null,
   "metadata": {
    "colab": {
     "base_uri": "https://localhost:8080/",
     "height": 34
    },
    "colab_type": "code",
    "id": "g8-gSlj4Q6zS",
    "outputId": "de3baa31-1d79-4ac7-f863-5dc05b9cbc72",
    "scrolled": false
   },
   "outputs": [],
   "source": [
    "history = model.train(X_train, y_train, initial_epoch=INITIAL_EPOCH)"
   ]
  },
  {
   "cell_type": "code",
   "execution_count": null,
   "metadata": {
    "colab": {},
    "colab_type": "code",
    "id": "RUZ_Xg8Kh0qd"
   },
   "outputs": [],
   "source": [
    "model.save(os.path.join(root_dir, f'{MODEL_NAME}-saved_weights.h5'))"
   ]
  },
  {
   "cell_type": "code",
   "execution_count": null,
   "metadata": {
    "colab": {
     "base_uri": "https://localhost:8080/",
     "height": 1000
    },
    "colab_type": "code",
    "id": "v0EDB3AoflfH",
    "outputId": "551a27e4-cd4d-4376-bc97-cf2880409cf3"
   },
   "outputs": [],
   "source": [
    "def plot_metric(metric_name):\n",
    "  # Plot training & validation accuracy values\n",
    "  plt.plot(history.history[metric_name])\n",
    "  plt.plot(history.history[f'val_{metric_name}'])\n",
    "  plt.title(f'Model {metric_name}')\n",
    "  plt.ylabel(f'{metric_name}')\n",
    "  plt.xlabel('Epoch')\n",
    "  plt.legend(['Train', 'Test'], loc='upper left')\n",
    "  plt.savefig(os.path.join(root_dir, f'{MODEL_NAME}-{metric_name}.png'))\n",
    "  plt.show()\n",
    "\n",
    "plot_metric('loss')\n",
    "plot_metric('acc')\n",
    "plot_metric('f1')\n",
    "plot_metric('iou')"
   ]
  },
  {
   "cell_type": "markdown",
   "metadata": {
    "colab_type": "text",
    "id": "_-DQ36-9tvW9"
   },
   "source": [
    "# Test model"
   ]
  },
  {
   "cell_type": "code",
   "execution_count": null,
   "metadata": {
    "colab": {
     "base_uri": "https://localhost:8080/",
     "height": 122
    },
    "colab_type": "code",
    "id": "4jCBa1gwlKQC",
    "outputId": "5e8d3134-eee9-4691-c9d7-64e1047006ce"
   },
   "outputs": [],
   "source": [
    "results = model.test(X_test, y_test)\n",
    "print(f'--- report: saved weights ---')\n",
    "print(results)"
   ]
  },
  {
   "cell_type": "code",
   "execution_count": null,
   "metadata": {
    "colab": {
     "base_uri": "https://localhost:8080/",
     "height": 122
    },
    "colab_type": "code",
    "id": "0h8u8DPMtwow",
    "outputId": "320ba8e3-6b33-4138-c52d-93e4fa226ab9"
   },
   "outputs": [],
   "source": [
    "model.load(os.path.join(root_dir, f'{MODEL_NAME}.h5'))\n",
    "results = model.test(X_test, y_test)\n",
    "print(f'--- report: {MODEL_NAME}.h5 ---')\n",
    "print(results)"
   ]
  }
 ],
 "metadata": {
  "accelerator": "GPU",
  "colab": {
   "collapsed_sections": [],
   "name": "full_train_colab_ready.ipynb",
   "provenance": [],
   "toc_visible": true
  },
  "kernelspec": {
   "display_name": "Python 3",
   "language": "python",
   "name": "python3"
  },
  "language_info": {
   "codemirror_mode": {
    "name": "ipython",
    "version": 3
   },
   "file_extension": ".py",
   "mimetype": "text/x-python",
   "name": "python",
   "nbconvert_exporter": "python",
   "pygments_lexer": "ipython3",
   "version": "3.7.4"
  },
  "varInspector": {
   "cols": {
    "lenName": 16,
    "lenType": 16,
    "lenVar": 40
   },
   "kernels_config": {
    "python": {
     "delete_cmd_postfix": "",
     "delete_cmd_prefix": "del ",
     "library": "var_list.py",
     "varRefreshCmd": "print(var_dic_list())"
    },
    "r": {
     "delete_cmd_postfix": ") ",
     "delete_cmd_prefix": "rm(",
     "library": "var_list.r",
     "varRefreshCmd": "cat(var_dic_list()) "
    }
   },
   "types_to_exclude": [
    "module",
    "function",
    "builtin_function_or_method",
    "instance",
    "_Feature"
   ],
   "window_display": false
  }
 },
 "nbformat": 4,
 "nbformat_minor": 1
}
