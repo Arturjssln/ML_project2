{
 "cells": [
  {
   "cell_type": "markdown",
   "metadata": {
    "colab_type": "text",
    "id": "dEDHUTghQ6y9"
   },
   "source": [
    "# Imports"
   ]
  },
  {
   "cell_type": "code",
   "execution_count": null,
   "metadata": {
    "colab": {},
    "colab_type": "code",
    "id": "IsCZdEtPH4lq"
   },
   "outputs": [],
   "source": [
    "MODEL_NAME=\"V2.1.007\""
   ]
  },
  {
   "cell_type": "code",
   "execution_count": null,
   "metadata": {
    "colab": {},
    "colab_type": "code",
    "id": "7w-mauGjRlLx"
   },
   "outputs": [],
   "source": [
    "import numpy as np\n",
    "import os\n",
    "import sys\n",
    "%pip install -U imgaug\n",
    "\n",
    "from helpers import *\n",
    "from CNNv2 import CNN\n",
    "\n",
    "IN_COLAB = 'google.colab' in sys.modules"
   ]
  },
  {
   "cell_type": "markdown",
   "metadata": {
    "colab_type": "text",
    "id": "s6DG7KEiQ6zH"
   },
   "source": [
    "# Load images"
   ]
  },
  {
   "cell_type": "code",
   "execution_count": null,
   "metadata": {
    "colab": {
     "base_uri": "https://localhost:8080/",
     "height": 68
    },
    "colab_type": "code",
    "id": "XrWYKoQlQ6zI",
    "outputId": "144060ea-832a-4918-d5b4-4ae0aafd8f33"
   },
   "outputs": [],
   "source": [
    "from skimage.color import rgb2yuv\n",
    "\n",
    "# Load the training set\n",
    "if (IN_COLAB):\n",
    "    from google.colab import drive\n",
    "    drive.mount('/gdrive')\n",
    "    root_dir = \"/gdrive/My Drive/ML/training/\"\n",
    "else:\n",
    "    root_dir = \"training/\"\n",
    "\n",
    "image_dir = root_dir + \"images/\"\n",
    "files = os.listdir(image_dir)\n",
    "n = len(files)\n",
    "print(\"Loading \" + str(n) + \" images\")\n",
    "imgs = np.asarray([rgb2yuv(load_image(image_dir + files[i])) for i in range(n)])\n",
    "\n",
    "gt_dir = root_dir + \"groundtruth/\"\n",
    "print(\"Loading \" + str(n) + \" groundtruth\")\n",
    "gt_imgs = np.asarray([load_image(gt_dir + files[i]) for i in range(n)])"
   ]
  },
  {
   "cell_type": "markdown",
   "metadata": {
    "colab_type": "text",
    "id": "AzpgKfIXQ6zK"
   },
   "source": [
    "# Load model"
   ]
  },
  {
   "cell_type": "code",
   "execution_count": null,
   "metadata": {
    "colab": {},
    "colab_type": "code",
    "id": "9-cY8xxKQ6zL"
   },
   "outputs": [],
   "source": [
    "model = CNN(\n",
    "    rootdir=root_dir,\n",
    "    window_size=320,\n",
    "    lk_alpha=0.1,\n",
    "    nb_epochs=20,\n",
    "    adjust_metric='val_acc',\n",
    "    save_metric='val_iou',\n",
    "    train_batch_size=8,\n",
    "    val_batch_size=8,\n",
    "    random_seed=658,\n",
    "    validation_size=0.1,\n",
    "    best_model_filename=f'{MODEL_NAME}.h5',\n",
    "    log_csv_filename=f'{MODEL_NAME}.csv')"
   ]
  },
  {
   "cell_type": "markdown",
   "metadata": {
    "colab_type": "text",
    "id": "Gkx7lPXDtNMh"
   },
   "source": [
    "# Split dataset\n",
    "\n",
    "> This step is not necessary when preparing submission but it is to compare different models and/or parameters."
   ]
  },
  {
   "cell_type": "code",
   "execution_count": null,
   "metadata": {
    "colab": {
     "base_uri": "https://localhost:8080/",
     "height": 34
    },
    "colab_type": "code",
    "id": "A4GZ0_EttU9e",
    "outputId": "78859658-3de2-491f-d690-7efd591ed04e"
   },
   "outputs": [],
   "source": [
    "TEST_PROPORTION = 0.1\n",
    "X_train, X_test, y_train, y_test = model.split_data(imgs, gt_imgs, rate=TEST_PROPORTION, seed=42)\n",
    "print(X_test.shape[0], 'test images;', X_train.shape[0], 'train images')"
   ]
  },
  {
   "cell_type": "markdown",
   "metadata": {
    "colab_type": "text",
    "id": "O93Jd6gpQ6zN"
   },
   "source": [
    "## Train model (and save it)"
   ]
  },
  {
   "cell_type": "code",
   "execution_count": null,
   "metadata": {
    "colab": {},
    "colab_type": "code",
    "id": "w55VLgP9Q6zQ"
   },
   "outputs": [],
   "source": [
    "#model.load(os.path.join(root_dir, f'{MODEL_NAME}.h5'))\n",
    "#model.load(os.path.join(root_dir, 'models', 'another_model.h5'))\n",
    "#model.load(f'{MODEL_NAME}-saved_weights.h5') # set initial_epoch to resume training\n",
    "INITIAL_EPOCH = 0"
   ]
  },
  {
   "cell_type": "code",
   "execution_count": null,
   "metadata": {
    "colab": {
     "base_uri": "https://localhost:8080/",
     "height": 34
    },
    "colab_type": "code",
    "id": "g8-gSlj4Q6zS",
    "outputId": "692d3cb6-9d3c-472a-98d2-0d94236ea071",
    "scrolled": false
   },
   "outputs": [],
   "source": [
    "history = model.train(X_train, y_train, initial_epoch=INITIAL_EPOCH)"
   ]
  },
  {
   "cell_type": "code",
   "execution_count": null,
   "metadata": {
    "colab": {},
    "colab_type": "code",
    "id": "RUZ_Xg8Kh0qd"
   },
   "outputs": [],
   "source": [
    "model.save(os.path.join(root_dir, f'{MODEL_NAME}-saved_weights.h5'))"
   ]
  },
  {
   "cell_type": "code",
   "execution_count": null,
   "metadata": {
    "colab": {},
    "colab_type": "code",
    "id": "v0EDB3AoflfH"
   },
   "outputs": [],
   "source": [
    "# Plot training & validation accuracy values\n",
    "plt.plot(history.history['acc'])\n",
    "plt.plot(history.history['val_acc'])\n",
    "plt.title('Model accuracy')\n",
    "plt.ylabel('Accuracy')\n",
    "plt.xlabel('Epoch')\n",
    "plt.legend(['Train', 'Test'], loc='upper left')\n",
    "plt.savefig(os.path.join(root_dir, f'{MODEL_NAME}-acc.png'))\n",
    "plt.show()\n",
    "\n",
    "# Plot training & validation loss values\n",
    "plt.plot(history.history['loss'])\n",
    "plt.plot(history.history['val_loss'])\n",
    "plt.title('Model loss')\n",
    "plt.ylabel('Loss')\n",
    "plt.xlabel('Epoch')\n",
    "plt.legend(['Train', 'Test'], loc='upper left')\n",
    "plt.savefig(os.path.join(root_dir, f'{MODEL_NAME}-loss.png'))\n",
    "plt.show()"
   ]
  },
  {
   "cell_type": "markdown",
   "metadata": {
    "colab_type": "text",
    "id": "_-DQ36-9tvW9"
   },
   "source": [
    "# Test model"
   ]
  },
  {
   "cell_type": "code",
   "execution_count": null,
   "metadata": {
    "colab": {},
    "colab_type": "code",
    "id": "4jCBa1gwlKQC"
   },
   "outputs": [],
   "source": [
    "results = model.test(X_test, y_test)\n",
    "print(f'--- report: saved weights ---')\n",
    "print(results)"
   ]
  },
  {
   "cell_type": "code",
   "execution_count": null,
   "metadata": {
    "colab": {},
    "colab_type": "code",
    "id": "0h8u8DPMtwow"
   },
   "outputs": [],
   "source": [
    "model.load(os.path.join(root_dir, f'{MODEL_NAME}.h5'))\n",
    "results = model.test(X_test, y_test)\n",
    "print(f'--- report: {MODEL_NAME}.h5 ---')\n",
    "print(results)"
   ]
  }
 ],
 "metadata": {
  "accelerator": "GPU",
  "colab": {
   "collapsed_sections": [],
   "name": "full_train_colab_ready.ipynb",
   "provenance": [],
   "toc_visible": true
  },
  "kernelspec": {
   "display_name": "Python 3",
   "language": "python",
   "name": "python3"
  },
  "language_info": {
   "codemirror_mode": {
    "name": "ipython",
    "version": 3
   },
   "file_extension": ".py",
   "mimetype": "text/x-python",
   "name": "python",
   "nbconvert_exporter": "python",
   "pygments_lexer": "ipython3",
   "version": "3.7.4"
  },
  "varInspector": {
   "cols": {
    "lenName": 16,
    "lenType": 16,
    "lenVar": 40
   },
   "kernels_config": {
    "python": {
     "delete_cmd_postfix": "",
     "delete_cmd_prefix": "del ",
     "library": "var_list.py",
     "varRefreshCmd": "print(var_dic_list())"
    },
    "r": {
     "delete_cmd_postfix": ") ",
     "delete_cmd_prefix": "rm(",
     "library": "var_list.r",
     "varRefreshCmd": "cat(var_dic_list()) "
    }
   },
   "types_to_exclude": [
    "module",
    "function",
    "builtin_function_or_method",
    "instance",
    "_Feature"
   ],
   "window_display": false
  }
 },
 "nbformat": 4,
 "nbformat_minor": 1
}
