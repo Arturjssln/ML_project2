{
 "cells": [
  {
   "cell_type": "markdown",
   "metadata": {},
   "source": [
    "# Imports"
   ]
  },
  {
   "cell_type": "code",
   "execution_count": null,
   "metadata": {},
   "outputs": [],
   "source": [
    "MODEL_V3_BEST = {\n",
    "    \"path\": 'models/BEST_V3.DEEP5.1-saved_weights.h5',\n",
    "    \"net_depth\": 5\n",
    "}\n",
    "MODEL_TO_IMPORT = MODEL_V3_BEST # can be either a model (dict) or a string\n",
    "#MODEL_PP = 'models/V3.PP.1.h5'\n",
    "MODEL_PP = None # set None to deactivate Post Processing model\n",
    "\n",
    "DEFAULT = {\n",
    "    \"mode\": 'rgb',\n",
    "    \"seed\": 1000,\n",
    "    \"lk_alpha\": .1,\n",
    "    \"channels_size\": 3,\n",
    "    \"batchnorm\": True,\n",
    "    \"residual\": True,\n",
    "    \"net_depth\": 4\n",
    "}\n",
    "IMAGE_SIZE = 608\n",
    "PATCH_SIZE = 16\n",
    "PTHRESHOLD = 0.25\n",
    "NB_TST_IMG = 50\n",
    "\n",
    "SUBMISSION_FILE = \"submission.csv\"\n",
    "\n",
    "#MODEL_TO_IMPORT = 'models/V2.2.004_step17_BEST.h5'"
   ]
  },
  {
   "cell_type": "code",
   "execution_count": null,
   "metadata": {},
   "outputs": [],
   "source": [
    "%matplotlib inline\n",
    "import matplotlib.image as mpimg\n",
    "import numpy as np\n",
    "import matplotlib.pyplot as plt\n",
    "import os, sys\n",
    "from PIL import Image\n",
    "import re\n",
    "from IPython import display\n",
    "\n",
    "IN_COLAB = 'google.colab' in sys.modules"
   ]
  },
  {
   "cell_type": "code",
   "execution_count": null,
   "metadata": {},
   "outputs": [],
   "source": [
    "if (IN_COLAB):\n",
    "    from google.colab import drive\n",
    "    drive.mount('/gdrive')\n",
    "    root_dir = \"/gdrive/My Drive/ML/training/\"\n",
    "else:\n",
    "    root_dir = \".\"\n",
    "test_dir = os.path.join(root_dir, \"test_set_images/test_\")"
   ]
  },
  {
   "cell_type": "markdown",
   "metadata": {},
   "source": [
    "# Load Model"
   ]
  },
  {
   "cell_type": "code",
   "execution_count": null,
   "metadata": {},
   "outputs": [],
   "source": [
    "def get_model_prop(prop_name):\n",
    "    if isinstance(MODEL_TO_IMPORT, str) or prop_name not in MODEL_TO_IMPORT:\n",
    "        return DEFAULT[prop_name]\n",
    "    return MODEL_TO_IMPORT[prop_name]"
   ]
  },
  {
   "cell_type": "code",
   "execution_count": null,
   "metadata": {
    "scrolled": false
   },
   "outputs": [],
   "source": [
    "from CNNv2 import CNN\n",
    "\n",
    "model = CNN(\n",
    "    rootdir=root_dir,\n",
    "    window_size=IMAGE_SIZE,\n",
    "    lk_alpha=get_model_prop('lk_alpha'),\n",
    "    random_seed=get_model_prop('seed'),\n",
    "    channels_size=get_model_prop('channels_size'),\n",
    "    batchnorm=get_model_prop('batchnorm'),\n",
    "    residual=get_model_prop('residual'),\n",
    "    net_depth=get_model_prop('net_depth'),\n",
    ")\n",
    "model_path = MODEL_TO_IMPORT if isinstance(MODEL_TO_IMPORT, str) else MODEL_TO_IMPORT['path']\n",
    "model.load(os.path.join(root_dir, model_path))"
   ]
  },
  {
   "cell_type": "code",
   "execution_count": null,
   "metadata": {},
   "outputs": [],
   "source": [
    "model_pp = None\n",
    "if MODEL_PP is not None:\n",
    "    model_pp = CNN(\n",
    "        rootdir=root_dir,\n",
    "        window_size=IMAGE_SIZE,\n",
    "        lk_alpha=get_model_prop('lk_alpha'),\n",
    "        random_seed=get_model_prop('seed'),\n",
    "        channels_size=1,\n",
    "        batchnorm=get_model_prop('batchnorm'),\n",
    "        residual=get_model_prop('residual'),\n",
    "    )\n",
    "    model_pp.load(os.path.join(root_dir, MODEL_PP))"
   ]
  },
  {
   "cell_type": "markdown",
   "metadata": {},
   "source": [
    "# Visualization "
   ]
  },
  {
   "cell_type": "code",
   "execution_count": null,
   "metadata": {},
   "outputs": [],
   "source": [
    "from helpers import *\n",
    "from skimage.color import rgb2hsv, rgb2lab, rgb2hed, rgb2yuv\n",
    "\n",
    "def load_image(filename, mode = 'rgb'):\n",
    "    if mode == 'hsv':\n",
    "        img = rgb2hsv(mpimg.imread(filename))\n",
    "    elif mode == 'lab':\n",
    "        img = rgb2lab(mpimg.imread(filename))\n",
    "    elif mode == 'hed':\n",
    "        img = rgb2hed(mpimg.imread(filename))\n",
    "    elif mode == 'yuv':\n",
    "        img = rgb2yuv(mpimg.imread(filename))\n",
    "    elif mode == 'rgb':\n",
    "        img = mpimg.imread(filename)\n",
    "    else:\n",
    "        raise NotImplemented\n",
    "    return np.expand_dims(img, axis=0)\n",
    "\n",
    "def get_path_for_img_nb(img_nb):\n",
    "    return test_dir+str(img_nb)+'/test_' + str(img_nb) + '.png'\n",
    "\n",
    "def get_image_filenames(img_nb = None):\n",
    "    image_filenames = []\n",
    "    if img_nb == None:\n",
    "        for i in range(1, NB_TST_IMG+1):\n",
    "            image_filenames += [get_path_for_img_nb(i)]\n",
    "    elif type(img_nb) is int:\n",
    "        image_filenames += [get_path_for_img_nb(img_nb)]\n",
    "    else:\n",
    "        for i in img_nb:\n",
    "            image_filenames += [get_path_for_img_nb(i)]\n",
    "    return image_filenames\n",
    "    \n",
    "def visualize_step(idx, input_image, Xi_raw, Xi, ground, mask = None, animate = False):\n",
    "    input_image = np.squeeze(input_image)\n",
    "    fig, axs = plt.subplots(1, 4 if mask is None else 5, figsize=(15, 15))\n",
    "    i = 0\n",
    "    axs[i].imshow(input_image)\n",
    "    axs[i].set_title(f'image {idx+1}')\n",
    "    i += 1\n",
    "    axs[i].imshow(np.squeeze(Xi_raw))\n",
    "    axs[i].set_title('real prediction')\n",
    "    i += 1\n",
    "    axs[i].imshow(np.squeeze(Xi))\n",
    "    axs[i].set_title('thresholded prediction')\n",
    "    if mask is not None:\n",
    "        i += 1\n",
    "        axs[i].imshow(mask)\n",
    "        axs[i].set_title('mask')\n",
    "    i += 1\n",
    "    axs[i].imshow(ground)\n",
    "    axs[i].set_title('label prediction')\n",
    "    # remove the x and y ticks\n",
    "    for ax in axs:\n",
    "        ax.set_xticks([])\n",
    "        ax.set_yticks([])\n",
    "    display.clear_output(wait=True)\n",
    "    if animate:\n",
    "        plt.show()\n",
    "\n",
    "def get_predicted_mask(image, mode, model):\n",
    "    if isinstance(image, str):\n",
    "        image = load_image(image, mode)\n",
    "    Xi_raw = model.model.predict(image)\n",
    "    Xi = np.where(Xi_raw>0.5, 1, 0)\n",
    "    Xi = np.squeeze(Xi)\n",
    "    return Xi_raw, Xi\n",
    "\n",
    "def get_steps_for_img(filename, mode, model = model, model_pp = model_pp):\n",
    "    img_input = load_image(filename, mode)\n",
    "    Xi_raw, Xi = get_predicted_mask(filename, mode, model=model)\n",
    "    if model_pp is not None:\n",
    "        _, mask = get_predicted_mask(Xi_raw, mode, model=model_pp)\n",
    "    else:\n",
    "        mask = None\n",
    "    ground = get_ground_img(\n",
    "        Xi if mask is None else mask,\n",
    "        patch_size = PATCH_SIZE,\n",
    "        foreground_threshold = PTHRESHOLD)\n",
    "    return (img_input, Xi_raw, Xi, ground, mask)\n",
    "\n",
    "def visualize(img_nb = None, mode = DEFAULT['mode'], save_masks = False):\n",
    "    image_filenames = get_image_filenames(img_nb)\n",
    "    for i, filename in enumerate(image_filenames[0:]):\n",
    "        (img_input, Xi_raw, Xi, ground, mask) = get_steps_for_img(filename, mode)\n",
    "        visualize_step(i, img_input, Xi_raw, Xi, ground, mask)\n",
    "        if save_masks:\n",
    "            mpimg.imsave(os.path.join(root_dir, 'masks', f'test_{i+1}.png'), np.squeeze(Xi_raw[0]))\n",
    "    plt.show()\n",
    "        \n",
    "def generate_submission(img_nb = None, plot = True, submission_filename = SUBMISSION_FILE, mode = DEFAULT['mode']):\n",
    "    \"\"\" Generate a .csv containing the classification of the test set. \"\"\"\n",
    "    image_filenames = get_image_filenames(img_nb)\n",
    "    print(f'Generating file: {submission_filename}...')\n",
    "    with open(os.path.join(root_dir, submission_filename), 'w') as f:\n",
    "        f.write('id,prediction\\n')\n",
    "        for i, filename in enumerate(image_filenames[0:]):\n",
    "            (img_input, Xi_raw, Xi, ground, mask) = get_steps_for_img(filename, mode)\n",
    "            if plot:\n",
    "                visualize_step(i, img_input, Xi_raw, Xi, ground, mask, True)\n",
    "            else:\n",
    "                print(f'Img {i+1}...')\n",
    "            f.writelines([\n",
    "                \"{:03d}_{}_{},{}\\n\".format(i+1, j*PATCH_SIZE, k*PATCH_SIZE, ground[k,j])\n",
    "                for j in range(ground.shape[1]) for k in range(ground.shape[0])\n",
    "            ])\n",
    "    print(f'Submission generated at {submission_filename}!')"
   ]
  },
  {
   "cell_type": "code",
   "execution_count": null,
   "metadata": {
    "scrolled": false
   },
   "outputs": [],
   "source": [
    "#Visualize prediction on input image\n",
    "# Parameters idx can be:\n",
    "#     int: 1-50 for a specific image\n",
    "#     array: [1,2,4,6] for a specific range\n",
    "#     None: run all images\n",
    "visualize([1,2,6,10])"
   ]
  },
  {
   "cell_type": "markdown",
   "metadata": {},
   "source": [
    "# Submission"
   ]
  },
  {
   "cell_type": "code",
   "execution_count": null,
   "metadata": {},
   "outputs": [],
   "source": [
    "assert True == False, \"prevent next cells execution when run all\""
   ]
  },
  {
   "cell_type": "code",
   "execution_count": null,
   "metadata": {
    "scrolled": false
   },
   "outputs": [],
   "source": [
    "generate_submission(mode=get_model_prop('mode'))"
   ]
  }
 ],
 "metadata": {
  "kernelspec": {
   "display_name": "Python 3",
   "language": "python",
   "name": "python3"
  },
  "language_info": {
   "codemirror_mode": {
    "name": "ipython",
    "version": 3
   },
   "file_extension": ".py",
   "mimetype": "text/x-python",
   "name": "python",
   "nbconvert_exporter": "python",
   "pygments_lexer": "ipython3",
   "version": "3.7.4"
  },
  "varInspector": {
   "cols": {
    "lenName": 16,
    "lenType": 16,
    "lenVar": 40
   },
   "kernels_config": {
    "python": {
     "delete_cmd_postfix": "",
     "delete_cmd_prefix": "del ",
     "library": "var_list.py",
     "varRefreshCmd": "print(var_dic_list())"
    },
    "r": {
     "delete_cmd_postfix": ") ",
     "delete_cmd_prefix": "rm(",
     "library": "var_list.r",
     "varRefreshCmd": "cat(var_dic_list()) "
    }
   },
   "position": {
    "height": "144.85px",
    "left": "1085px",
    "right": "20px",
    "top": "119px",
    "width": "350px"
   },
   "types_to_exclude": [
    "module",
    "function",
    "builtin_function_or_method",
    "instance",
    "_Feature"
   ],
   "window_display": false
  }
 },
 "nbformat": 4,
 "nbformat_minor": 2
}
