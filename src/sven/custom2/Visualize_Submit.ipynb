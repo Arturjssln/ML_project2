{
 "cells": [
  {
   "cell_type": "markdown",
   "metadata": {},
   "source": [
    "# Imports"
   ]
  },
  {
   "cell_type": "code",
   "execution_count": 1,
   "metadata": {},
   "outputs": [],
   "source": [
    "%matplotlib inline\n",
    "import matplotlib.image as mpimg\n",
    "import numpy as np\n",
    "import matplotlib.pyplot as plt\n",
    "import os,sys\n",
    "from PIL import Image\n",
    "import re\n",
    "from IPython import display"
   ]
  },
  {
   "cell_type": "code",
   "execution_count": 2,
   "metadata": {},
   "outputs": [
    {
     "name": "stderr",
     "output_type": "stream",
     "text": [
      "Using TensorFlow backend.\n"
     ]
    }
   ],
   "source": [
    "from CNNv2 import CNN\n",
    "#%run ./CNN.ipynb\n",
    "#%run ./helpers.ipynb"
   ]
  },
  {
   "cell_type": "markdown",
   "metadata": {},
   "source": [
    "# Load Model"
   ]
  },
  {
   "cell_type": "code",
   "execution_count": 3,
   "metadata": {},
   "outputs": [
    {
     "name": "stdout",
     "output_type": "stream",
     "text": [
      "WARNING:tensorflow:From C:\\Users\\glagl\\.conda\\envs\\ML2\\lib\\site-packages\\tensorflow\\python\\ops\\resource_variable_ops.py:435: colocate_with (from tensorflow.python.framework.ops) is deprecated and will be removed in a future version.\n",
      "Instructions for updating:\n",
      "Colocations handled automatically by placer.\n"
     ]
    },
    {
     "name": "stderr",
     "output_type": "stream",
     "text": [
      "C:\\Users\\glagl\\Documents\\GitHub\\ML_project2\\src\\sven\\custom2\\CNNv2.py:103: UserWarning: Update your `Model` call to the Keras 2 API: `Model(inputs=Tensor(\"in..., outputs=Tensor(\"co...)`\n",
      "  self.model = Model(input = inputs, output = conv10) # TODO: ensure this is doing pixel-wise segmentation\n"
     ]
    }
   ],
   "source": [
    "model = CNN(rootdir='.', window_size=608)\n",
    "model.load('best_002.h5')\n",
    "test_dir = \"test_set_images/test_\""
   ]
  },
  {
   "cell_type": "markdown",
   "metadata": {},
   "source": [
    "# Visualization "
   ]
  },
  {
   "cell_type": "code",
   "execution_count": null,
   "metadata": {},
   "outputs": [],
   "source": [
    "def visualize(idx = None):\n",
    "    submission_filename = 'submission.csv'\n",
    "    image_filenames = []\n",
    "    if idx == None:\n",
    "        for i in range(1, 51):\n",
    "            image_filename = 'test_set_images/test_'+str(i)+'/test_' + str(i) + '.png'\n",
    "            image_filenames.append(image_filename)\n",
    "    elif type(idx) is int:\n",
    "        image_filename = 'test_set_images/test_'+str(idx)+'/test_' + str(idx) + '.png'\n",
    "        image_filenames.append(image_filename)\n",
    "    else:\n",
    "        for i in range(idx):\n",
    "            image_filename = 'test_set_images/test_'+str(i)+'/test_' + str(i) + '.png'\n",
    "            image_filenames.append(image_filename)\n",
    "        \n",
    "    foreground_threshold = 0.25 # percentage of pixels > 1 required to assign a foreground label to a patch\n",
    "    # assign a label to a patch\n",
    "    def patch_to_label(patch):\n",
    "        df = np.mean(patch)\n",
    "        if df > foreground_threshold:\n",
    "            return 1\n",
    "        else:\n",
    "            return 0\n",
    "        \n",
    "    def mask_to_submission_strings(model, image_filename):\n",
    "        img_number = int(re.search(r\"\\d+\", image_filename).group(0))\n",
    "        input_image = mpimg.imread(image_filename)\n",
    "        #input_image = input_image[:384, :384, :]\n",
    "        input_image = np.expand_dims(input_image, axis=0)\n",
    "        Xi = model.model.predict(input_image)\n",
    "        input_image = np.squeeze(input_image)\n",
    "        fig, axs = plt.subplots(1,3, figsize=(16, 16))\n",
    "        axs[0].imshow(input_image)\n",
    "        axs[0].set_title('imput image')\n",
    "        axs[1].imshow(np.squeeze(Xi))\n",
    "        axs[1].set_title('real prediction')\n",
    "        patch_size = 16\n",
    "        Xi = np.squeeze(Xi)\n",
    "        ground = Xi.copy()\n",
    "        print(Xi.shape)\n",
    "        for j in range(0, Xi.shape[1], patch_size):\n",
    "            for i in range(0, Xi.shape[0], patch_size):\n",
    "                patch = Xi[i:i + patch_size, j:j + patch_size]\n",
    "                label = patch_to_label(patch)\n",
    "                ground[i:i + patch_size, j:j + patch_size].fill(label)\n",
    "                yield(\"{:03d}_{}_{},{}\".format(img_number, j, i, label))\n",
    "                \n",
    "        axs[2].imshow(ground)\n",
    "        axs[2].set_title('label prediction')\n",
    "        # remove the x and y ticks\n",
    "        for ax in axs:\n",
    "            ax.set_xticks([])\n",
    "            ax.set_yticks([])\n",
    "        display.clear_output(wait=True)\n",
    "        fig.suptitle('Image {0}'.format(image_filename), fontsize=16)\n",
    "        \n",
    "    def generate_submission(model, submission_filename, *image_filenames):\n",
    "        \"\"\" Generate a .csv containing the classification of the test set. \"\"\"\n",
    "        with open(submission_filename, 'w') as f:\n",
    "            f.write('id,prediction\\n')\n",
    "            for fn in image_filenames[0:]:\n",
    "                f.writelines('{}\\n'.format(s) for s in mask_to_submission_strings(model, fn))\n",
    "    generate_submission(model, submission_filename, *image_filenames)"
   ]
  },
  {
   "cell_type": "code",
   "execution_count": null,
   "metadata": {
    "scrolled": false
   },
   "outputs": [],
   "source": [
    "#Visualize prediction on input image\n",
    "# Parameters idx can be:\n",
    "#     int: 1-50 for a specific image\n",
    "#     array: [1,2,4,6] for a specific range\n",
    "#     None: run all images\n",
    "visualize()"
   ]
  },
  {
   "cell_type": "markdown",
   "metadata": {},
   "source": [
    "# Submission"
   ]
  },
  {
   "cell_type": "code",
   "execution_count": 6,
   "metadata": {},
   "outputs": [],
   "source": [
    "def submission():\n",
    "    submission_filename = 'submission.csv'\n",
    "    image_filenames = []\n",
    "    for i in range(1, 51):\n",
    "        image_filename = 'test_set_images/test_'+str(i)+'/test_' + str(i) + '.png'\n",
    "        image_filenames.append(image_filename)\n",
    "        \n",
    "    foreground_threshold = 0.25 # percentage of pixels > 1 required to assign a foreground label to a patch\n",
    "\n",
    "    # assign a label to a patch\n",
    "    def patch_to_label(patch):\n",
    "        df = np.mean(patch)\n",
    "        if df > foreground_threshold:\n",
    "            return 1\n",
    "        else:\n",
    "            return 0\n",
    "        \n",
    "    def mask_to_submission_strings(model, image_filename):\n",
    "        img_number = int(re.search(r\"\\d+\", image_filename).group(0))\n",
    "        input_image = np.expand_dims(mpimg.imread(image_filename), axis=0)\n",
    "        print(input_image.shape)\n",
    "        Xi = model.model.predict(input_image)\n",
    "        Xi = np.squeeze(Xi)\n",
    "        patch_size = 16\n",
    "        print(\"Processing \" + image_filename)   \n",
    "        for j in range(0, Xi.shape[1], patch_size):\n",
    "            for i in range(0, Xi.shape[0], patch_size):\n",
    "                patch = Xi[i:i + patch_size, j:j + patch_size]\n",
    "                label = patch_to_label(patch)\n",
    "                yield(\"{:03d}_{}_{},{}\".format(img_number, j, i, label))\n",
    "                        \n",
    "    def generate_submission(model, submission_filename, *image_filenames):\n",
    "        \"\"\" Generate a .csv containing the classification of the test set. \"\"\"\n",
    "        with open(submission_filename, 'w') as f:\n",
    "            f.write('id,prediction\\n')\n",
    "            for fn in image_filenames[0:]:\n",
    "                f.writelines('{}\\n'.format(s) for s in mask_to_submission_strings(model, fn))\n",
    "    generate_submission(model, submission_filename, *image_filenames)"
   ]
  },
  {
   "cell_type": "code",
   "execution_count": 7,
   "metadata": {
    "scrolled": false
   },
   "outputs": [
    {
     "name": "stdout",
     "output_type": "stream",
     "text": [
      "(1, 608, 608, 3)\n",
      "(608, 608)\n",
      "Processing test_set_images/test_1/test_1.png\n",
      "(1, 608, 608, 3)\n",
      "(608, 608)\n",
      "Processing test_set_images/test_2/test_2.png\n",
      "(1, 608, 608, 3)\n",
      "(608, 608)\n",
      "Processing test_set_images/test_3/test_3.png\n",
      "(1, 608, 608, 3)\n",
      "(608, 608)\n",
      "Processing test_set_images/test_4/test_4.png\n",
      "(1, 608, 608, 3)\n",
      "(608, 608)\n",
      "Processing test_set_images/test_5/test_5.png\n",
      "(1, 608, 608, 3)\n",
      "(608, 608)\n",
      "Processing test_set_images/test_6/test_6.png\n",
      "(1, 608, 608, 3)\n",
      "(608, 608)\n",
      "Processing test_set_images/test_7/test_7.png\n",
      "(1, 608, 608, 3)\n",
      "(608, 608)\n",
      "Processing test_set_images/test_8/test_8.png\n",
      "(1, 608, 608, 3)\n",
      "(608, 608)\n",
      "Processing test_set_images/test_9/test_9.png\n",
      "(1, 608, 608, 3)\n",
      "(608, 608)\n",
      "Processing test_set_images/test_10/test_10.png\n",
      "(1, 608, 608, 3)\n",
      "(608, 608)\n",
      "Processing test_set_images/test_11/test_11.png\n",
      "(1, 608, 608, 3)\n",
      "(608, 608)\n",
      "Processing test_set_images/test_12/test_12.png\n",
      "(1, 608, 608, 3)\n",
      "(608, 608)\n",
      "Processing test_set_images/test_13/test_13.png\n",
      "(1, 608, 608, 3)\n",
      "(608, 608)\n",
      "Processing test_set_images/test_14/test_14.png\n",
      "(1, 608, 608, 3)\n",
      "(608, 608)\n",
      "Processing test_set_images/test_15/test_15.png\n",
      "(1, 608, 608, 3)\n",
      "(608, 608)\n",
      "Processing test_set_images/test_16/test_16.png\n",
      "(1, 608, 608, 3)\n",
      "(608, 608)\n",
      "Processing test_set_images/test_17/test_17.png\n",
      "(1, 608, 608, 3)\n",
      "(608, 608)\n",
      "Processing test_set_images/test_18/test_18.png\n",
      "(1, 608, 608, 3)\n",
      "(608, 608)\n",
      "Processing test_set_images/test_19/test_19.png\n",
      "(1, 608, 608, 3)\n",
      "(608, 608)\n",
      "Processing test_set_images/test_20/test_20.png\n",
      "(1, 608, 608, 3)\n",
      "(608, 608)\n",
      "Processing test_set_images/test_21/test_21.png\n",
      "(1, 608, 608, 3)\n",
      "(608, 608)\n",
      "Processing test_set_images/test_22/test_22.png\n",
      "(1, 608, 608, 3)\n",
      "(608, 608)\n",
      "Processing test_set_images/test_23/test_23.png\n",
      "(1, 608, 608, 3)\n",
      "(608, 608)\n",
      "Processing test_set_images/test_24/test_24.png\n",
      "(1, 608, 608, 3)\n",
      "(608, 608)\n",
      "Processing test_set_images/test_25/test_25.png\n",
      "(1, 608, 608, 3)\n",
      "(608, 608)\n",
      "Processing test_set_images/test_26/test_26.png\n",
      "(1, 608, 608, 3)\n",
      "(608, 608)\n",
      "Processing test_set_images/test_27/test_27.png\n",
      "(1, 608, 608, 3)\n",
      "(608, 608)\n",
      "Processing test_set_images/test_28/test_28.png\n",
      "(1, 608, 608, 3)\n",
      "(608, 608)\n",
      "Processing test_set_images/test_29/test_29.png\n",
      "(1, 608, 608, 3)\n",
      "(608, 608)\n",
      "Processing test_set_images/test_30/test_30.png\n",
      "(1, 608, 608, 3)\n",
      "(608, 608)\n",
      "Processing test_set_images/test_31/test_31.png\n",
      "(1, 608, 608, 3)\n",
      "(608, 608)\n",
      "Processing test_set_images/test_32/test_32.png\n",
      "(1, 608, 608, 3)\n",
      "(608, 608)\n",
      "Processing test_set_images/test_33/test_33.png\n",
      "(1, 608, 608, 3)\n",
      "(608, 608)\n",
      "Processing test_set_images/test_34/test_34.png\n",
      "(1, 608, 608, 3)\n",
      "(608, 608)\n",
      "Processing test_set_images/test_35/test_35.png\n",
      "(1, 608, 608, 3)\n",
      "(608, 608)\n",
      "Processing test_set_images/test_36/test_36.png\n",
      "(1, 608, 608, 3)\n",
      "(608, 608)\n",
      "Processing test_set_images/test_37/test_37.png\n",
      "(1, 608, 608, 3)\n",
      "(608, 608)\n",
      "Processing test_set_images/test_38/test_38.png\n",
      "(1, 608, 608, 3)\n",
      "(608, 608)\n",
      "Processing test_set_images/test_39/test_39.png\n",
      "(1, 608, 608, 3)\n",
      "(608, 608)\n",
      "Processing test_set_images/test_40/test_40.png\n",
      "(1, 608, 608, 3)\n",
      "(608, 608)\n",
      "Processing test_set_images/test_41/test_41.png\n",
      "(1, 608, 608, 3)\n",
      "(608, 608)\n",
      "Processing test_set_images/test_42/test_42.png\n",
      "(1, 608, 608, 3)\n",
      "(608, 608)\n",
      "Processing test_set_images/test_43/test_43.png\n",
      "(1, 608, 608, 3)\n",
      "(608, 608)\n",
      "Processing test_set_images/test_44/test_44.png\n",
      "(1, 608, 608, 3)\n",
      "(608, 608)\n",
      "Processing test_set_images/test_45/test_45.png\n",
      "(1, 608, 608, 3)\n",
      "(608, 608)\n",
      "Processing test_set_images/test_46/test_46.png\n",
      "(1, 608, 608, 3)\n",
      "(608, 608)\n",
      "Processing test_set_images/test_47/test_47.png\n",
      "(1, 608, 608, 3)\n",
      "(608, 608)\n",
      "Processing test_set_images/test_48/test_48.png\n",
      "(1, 608, 608, 3)\n",
      "(608, 608)\n",
      "Processing test_set_images/test_49/test_49.png\n",
      "(1, 608, 608, 3)\n",
      "(608, 608)\n",
      "Processing test_set_images/test_50/test_50.png\n"
     ]
    }
   ],
   "source": [
    "submission()"
   ]
  },
  {
   "cell_type": "code",
   "execution_count": null,
   "metadata": {},
   "outputs": [],
   "source": []
  }
 ],
 "metadata": {
  "kernelspec": {
   "display_name": "Python 3",
   "language": "python",
   "name": "python3"
  },
  "language_info": {
   "codemirror_mode": {
    "name": "ipython",
    "version": 3
   },
   "file_extension": ".py",
   "mimetype": "text/x-python",
   "name": "python",
   "nbconvert_exporter": "python",
   "pygments_lexer": "ipython3",
   "version": "3.6.9"
  },
  "varInspector": {
   "cols": {
    "lenName": 16,
    "lenType": 16,
    "lenVar": 40
   },
   "kernels_config": {
    "python": {
     "delete_cmd_postfix": "",
     "delete_cmd_prefix": "del ",
     "library": "var_list.py",
     "varRefreshCmd": "print(var_dic_list())"
    },
    "r": {
     "delete_cmd_postfix": ") ",
     "delete_cmd_prefix": "rm(",
     "library": "var_list.r",
     "varRefreshCmd": "cat(var_dic_list()) "
    }
   },
   "position": {
    "height": "144.85px",
    "left": "1085px",
    "right": "20px",
    "top": "119px",
    "width": "350px"
   },
   "types_to_exclude": [
    "module",
    "function",
    "builtin_function_or_method",
    "instance",
    "_Feature"
   ],
   "window_display": false
  }
 },
 "nbformat": 4,
 "nbformat_minor": 2
}
