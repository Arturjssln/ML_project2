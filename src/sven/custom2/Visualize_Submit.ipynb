{
 "cells": [
  {
   "cell_type": "markdown",
   "metadata": {},
   "source": [
    "# Imports"
   ]
  },
  {
   "cell_type": "code",
   "execution_count": null,
   "metadata": {},
   "outputs": [],
   "source": [
    "MODEL_V2_004 = {\n",
    "    \"path\": 'models/V2.1.004.h5',\n",
    "    \"mode\": 'hsv',\n",
    "    \"test_accuracy\": 0.9640,\n",
    "    \"test_f1\": 0.9016,\n",
    "    \"test_loss\": 0.1294,\n",
    "    \"test_IOU\": 0.7357,\n",
    "    \"epochs\": \"10\"\n",
    "}\n",
    "MODEL_V2_001 = {\n",
    "    \"path\": 'models/V2.1.001.h5',\n",
    "    \"mode\": 'rgb',\n",
    "    \"test_accuracy\": 0.9381,\n",
    "    \"test_f1\": 0.8202,\n",
    "    \"test_loss\": 0.2106,\n",
    "    \"test_IOU\": 0.3383,\n",
    "    \"epochs\": \"5\"\n",
    "}\n",
    "MODEL_V2_003_30 = {\n",
    "    \"path\": 'models/v2.1.003.30e.HSV.h5',\n",
    "    \"mode\": 'hsv',\n",
    "    \"test_accuracy\": 0.9634,\n",
    "    \"test_f1\": 0.9023,\n",
    "    \"test_loss\": 0.5290,\n",
    "    \"test_IOU\": 0.1419\n",
    "}\n",
    "MODEL_V2_003 = {\n",
    "    \"path\": 'models/v2.1.003.h5',\n",
    "    \"mode\": 'hsv',\n",
    "    \"test_accuracy\": 0.9381,\n",
    "    \"test_f1\": 0.8202,\n",
    "    \"test_loss\": 0.2106,\n",
    "    \"test_IOU\": 0.3383\n",
    "}\n",
    "MODEL_V2_000 = {\n",
    "    \"path\": 'models/v2.0.003.h5',\n",
    "    \"mode\": 'rgb',\n",
    "    \"test_accuracy\": 0.8124,\n",
    "    \"test_f1\": 0,\n",
    "    \"test_loss\": 0.0734,\n",
    "    \"test_IOU\": 3.020\n",
    "}\n",
    "MODEL_TO_IMPORT = MODEL_V2_004 # can be either a model (dict) or a string\n",
    "# MODEL_TO_IMPORT = 'best.h5' # default to...\n",
    "DEFAULT_MODE = 'rgb'"
   ]
  },
  {
   "cell_type": "code",
   "execution_count": null,
   "metadata": {},
   "outputs": [],
   "source": [
    "%matplotlib inline\n",
    "import matplotlib.image as mpimg\n",
    "import numpy as np\n",
    "import matplotlib.pyplot as plt\n",
    "import os,sys\n",
    "from PIL import Image\n",
    "import re\n",
    "from IPython import display"
   ]
  },
  {
   "cell_type": "code",
   "execution_count": null,
   "metadata": {},
   "outputs": [],
   "source": [
    "from CNNv2 import CNN\n",
    "#%run ./CNN.ipynb\n",
    "#%run ./helpers.ipynb"
   ]
  },
  {
   "cell_type": "markdown",
   "metadata": {},
   "source": [
    "# Load Model"
   ]
  },
  {
   "cell_type": "code",
   "execution_count": null,
   "metadata": {},
   "outputs": [],
   "source": [
    "model = CNN(rootdir='.', window_size=608)\n",
    "model.load(MODEL_TO_IMPORT if isinstance(MODEL_TO_IMPORT, str) else MODEL_TO_IMPORT['path'])\n",
    "test_dir = \"test_set_images/test_\""
   ]
  },
  {
   "cell_type": "markdown",
   "metadata": {},
   "source": [
    "# Visualization "
   ]
  },
  {
   "cell_type": "code",
   "execution_count": null,
   "metadata": {},
   "outputs": [],
   "source": [
    "from skimage.color import rgb2hsv\n",
    "\n",
    "def load_image(filename, mode = 'rgb'):\n",
    "    if mode == 'hsv':\n",
    "        img = rgb2hsv(mpimg.imread(filename))\n",
    "    else:\n",
    "        img = mpimg.imread(filename)\n",
    "    return np.expand_dims(img, axis=0)\n",
    "    \n",
    "\n",
    "def visualize(idx = None, mode = 'rgb'):\n",
    "    submission_filename = 'submission.csv'\n",
    "    image_filenames = []\n",
    "    if idx == None:\n",
    "        for i in range(1, 51):\n",
    "            image_filename = 'test_set_images/test_'+str(i)+'/test_' + str(i) + '.png'\n",
    "            image_filenames.append(image_filename)\n",
    "    elif type(idx) is int:\n",
    "        image_filename = 'test_set_images/test_'+str(idx)+'/test_' + str(idx) + '.png'\n",
    "        image_filenames.append(image_filename)\n",
    "    else:\n",
    "        for i in idx:\n",
    "            image_filename = 'test_set_images/test_'+str(i)+'/test_' + str(i) + '.png'\n",
    "            image_filenames.append(image_filename)\n",
    "        \n",
    "    foreground_threshold = 0.25 # percentage of pixels > 1 required to assign a foreground label to a patch\n",
    "    # assign a label to a patch\n",
    "    def patch_to_label(patch):\n",
    "        df = np.mean(patch)\n",
    "        if df > foreground_threshold:\n",
    "            return 1\n",
    "        else:\n",
    "            return 0\n",
    "    def mask_to_submission_strings(model, image_filename):\n",
    "        img_number = int(re.search(r\"\\d+\", image_filename).group(0))\n",
    "        input_image = load_image(image_filename, mode)\n",
    "        #input_image = input_image[:384, :384, :]\n",
    "        #input_image = np.expand_dims(input_image, axis=0)\n",
    "        Xi = model.model.predict(input_image)\n",
    "        input_image = np.squeeze(input_image)\n",
    "        fig, axs = plt.subplots(1,3, figsize=(16, 16))\n",
    "        axs[0].imshow(input_image)\n",
    "        axs[0].set_title('imput image')\n",
    "        axs[1].imshow(np.squeeze(Xi))\n",
    "        axs[1].set_title('real prediction')\n",
    "        patch_size = 16\n",
    "        Xi = np.squeeze(Xi)\n",
    "        ground = Xi.copy()\n",
    "        print(Xi.shape)\n",
    "        for j in range(0, Xi.shape[1], patch_size):\n",
    "            for i in range(0, Xi.shape[0], patch_size):\n",
    "                patch = Xi[i:i + patch_size, j:j + patch_size]\n",
    "                label = patch_to_label(patch)\n",
    "                ground[i:i + patch_size, j:j + patch_size].fill(label)\n",
    "                yield(\"{:03d}_{}_{},{}\".format(img_number, j, i, label))\n",
    "                \n",
    "        axs[2].imshow(ground)\n",
    "        axs[2].set_title('label prediction')\n",
    "        # remove the x and y ticks\n",
    "        for ax in axs:\n",
    "            ax.set_xticks([])\n",
    "            ax.set_yticks([])\n",
    "        display.clear_output(wait=True)\n",
    "        fig.suptitle('Image {0}'.format(image_filename), fontsize=16)\n",
    "        \n",
    "    def generate_submission(model, submission_filename, *image_filenames):\n",
    "        \"\"\" Generate a .csv containing the classification of the test set. \"\"\"\n",
    "        with open(submission_filename, 'w') as f:\n",
    "            f.write('id,prediction\\n')\n",
    "            for fn in image_filenames[0:]:\n",
    "                f.writelines('{}\\n'.format(s) for s in mask_to_submission_strings(model, fn))\n",
    "    generate_submission(model, submission_filename, *image_filenames)"
   ]
  },
  {
   "cell_type": "code",
   "execution_count": null,
   "metadata": {
    "scrolled": false
   },
   "outputs": [],
   "source": [
    "#Visualize prediction on input image\n",
    "# Parameters idx can be:\n",
    "#     int: 1-50 for a specific image\n",
    "#     array: [1,2,4,6] for a specific range\n",
    "#     None: run all images\n",
    "visualize([1,2,3,4,6,10], mode = DEFAULT_MODE if isinstance(MODEL_TO_IMPORT, str) else MODEL_TO_IMPORT['mode'])"
   ]
  },
  {
   "cell_type": "markdown",
   "metadata": {},
   "source": [
    "# Submission"
   ]
  },
  {
   "cell_type": "code",
   "execution_count": null,
   "metadata": {},
   "outputs": [],
   "source": [
    "assert True == False, \"prevent next cells execution when run all\""
   ]
  },
  {
   "cell_type": "code",
   "execution_count": null,
   "metadata": {},
   "outputs": [],
   "source": [
    "def submission():\n",
    "    submission_filename = 'submission.csv'\n",
    "    image_filenames = []\n",
    "    for i in range(1, 51):\n",
    "        image_filename = 'test_set_images/test_'+str(i)+'/test_' + str(i) + '.png'\n",
    "        image_filenames.append(image_filename)\n",
    "        \n",
    "    foreground_threshold = 0.25 # percentage of pixels > 1 required to assign a foreground label to a patch\n",
    "\n",
    "    # assign a label to a patch\n",
    "    def patch_to_label(patch):\n",
    "        df = np.mean(patch)\n",
    "        if df > foreground_threshold:\n",
    "            return 1\n",
    "        else:\n",
    "            return 0\n",
    "        \n",
    "    def mask_to_submission_strings(model, image_filename):\n",
    "        img_number = int(re.search(r\"\\d+\", image_filename).group(0))\n",
    "        mode = DEFAULT_MODE if isinstance(MODEL_TO_IMPORT, str) else MODEL_TO_IMPORT['mode']\n",
    "        input_image = load_image(image_filename, mode)\n",
    "        #input_image = np.expand_dims(loaded_img, axis=0)\n",
    "        print(input_image.shape)\n",
    "        Xi = model.model.predict(input_image)\n",
    "        Xi = np.squeeze(Xi)\n",
    "        patch_size = 16\n",
    "        print(\"Processing \" + image_filename)   \n",
    "        for j in range(0, Xi.shape[1], patch_size):\n",
    "            for i in range(0, Xi.shape[0], patch_size):\n",
    "                patch = Xi[i:i + patch_size, j:j + patch_size]\n",
    "                label = patch_to_label(patch)\n",
    "                yield(\"{:03d}_{}_{},{}\".format(img_number, j, i, label))\n",
    "                        \n",
    "    def generate_submission(model, submission_filename, *image_filenames):\n",
    "        \"\"\" Generate a .csv containing the classification of the test set. \"\"\"\n",
    "        with open(submission_filename, 'w') as f:\n",
    "            f.write('id,prediction\\n')\n",
    "            for fn in image_filenames[0:]:\n",
    "                f.writelines('{}\\n'.format(s) for s in mask_to_submission_strings(model, fn))\n",
    "    generate_submission(model, submission_filename, *image_filenames)"
   ]
  },
  {
   "cell_type": "code",
   "execution_count": null,
   "metadata": {
    "scrolled": false
   },
   "outputs": [],
   "source": [
    "submission()"
   ]
  },
  {
   "cell_type": "code",
   "execution_count": null,
   "metadata": {},
   "outputs": [],
   "source": []
  }
 ],
 "metadata": {
  "kernelspec": {
   "display_name": "Python 3",
   "language": "python",
   "name": "python3"
  },
  "language_info": {
   "codemirror_mode": {
    "name": "ipython",
    "version": 3
   },
   "file_extension": ".py",
   "mimetype": "text/x-python",
   "name": "python",
   "nbconvert_exporter": "python",
   "pygments_lexer": "ipython3",
   "version": "3.7.4"
  },
  "varInspector": {
   "cols": {
    "lenName": 16,
    "lenType": 16,
    "lenVar": 40
   },
   "kernels_config": {
    "python": {
     "delete_cmd_postfix": "",
     "delete_cmd_prefix": "del ",
     "library": "var_list.py",
     "varRefreshCmd": "print(var_dic_list())"
    },
    "r": {
     "delete_cmd_postfix": ") ",
     "delete_cmd_prefix": "rm(",
     "library": "var_list.r",
     "varRefreshCmd": "cat(var_dic_list()) "
    }
   },
   "position": {
    "height": "144.85px",
    "left": "1085px",
    "right": "20px",
    "top": "119px",
    "width": "350px"
   },
   "types_to_exclude": [
    "module",
    "function",
    "builtin_function_or_method",
    "instance",
    "_Feature"
   ],
   "window_display": false
  }
 },
 "nbformat": 4,
 "nbformat_minor": 2
}
