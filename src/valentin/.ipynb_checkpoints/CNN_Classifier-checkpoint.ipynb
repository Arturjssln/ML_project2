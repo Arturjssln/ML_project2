{
 "cells": [
  {
   "cell_type": "code",
   "execution_count": 1,
   "metadata": {
    "colab": {
     "base_uri": "https://localhost:8080/",
     "height": 97
    },
    "colab_type": "code",
    "executionInfo": {
     "elapsed": 8209,
     "status": "ok",
     "timestamp": 1576082303681,
     "user": {
      "displayName": "Valentin Viennot",
      "photoUrl": "https://lh3.googleusercontent.com/a-/AAuE7mBFLJ79CAxyL_8r2U4xMZmocG_hr740b8sCBY5q_5Y=s64",
      "userId": "15345576953373911291"
     },
     "user_tz": -60
    },
    "id": "rbSGO2qpxHXe",
    "outputId": "3d49ae17-f8fb-4b94-e1da-649bc7cdaccd"
   },
   "outputs": [
    {
     "name": "stdout",
     "output_type": "stream",
     "text": [
      "Requirement already up-to-date: keras-segmentation in /opt/anaconda3/lib/python3.7/site-packages (0.2.0)\n",
      "Requirement already up-to-date: opencv-python in /opt/anaconda3/lib/python3.7/site-packages (4.1.2.30)\n",
      "Requirement already up-to-date: imgaug in /opt/anaconda3/lib/python3.7/site-packages (0.3.0)\n",
      "Requirement already satisfied, skipping upgrade: numpy>=1.14.5 in /opt/anaconda3/lib/python3.7/site-packages (from opencv-python) (1.17.2)\n",
      "Requirement already satisfied, skipping upgrade: six in /opt/anaconda3/lib/python3.7/site-packages (from imgaug) (1.12.0)\n",
      "Requirement already satisfied, skipping upgrade: matplotlib in /opt/anaconda3/lib/python3.7/site-packages (from imgaug) (3.1.1)\n",
      "Requirement already satisfied, skipping upgrade: Shapely in /opt/anaconda3/lib/python3.7/site-packages (from imgaug) (1.6.4.post2)\n",
      "Requirement already satisfied, skipping upgrade: Pillow in /opt/anaconda3/lib/python3.7/site-packages (from imgaug) (6.2.0)\n",
      "Requirement already satisfied, skipping upgrade: scipy in /opt/anaconda3/lib/python3.7/site-packages (from imgaug) (1.3.1)\n",
      "Requirement already satisfied, skipping upgrade: opencv-python-headless in /opt/anaconda3/lib/python3.7/site-packages (from imgaug) (4.1.2.30)\n",
      "Requirement already satisfied, skipping upgrade: scikit-image>=0.14.2 in /opt/anaconda3/lib/python3.7/site-packages (from imgaug) (0.15.0)\n",
      "Requirement already satisfied, skipping upgrade: imageio in /opt/anaconda3/lib/python3.7/site-packages (from imgaug) (2.6.0)\n",
      "Requirement already satisfied, skipping upgrade: cycler>=0.10 in /opt/anaconda3/lib/python3.7/site-packages (from matplotlib->imgaug) (0.10.0)\n",
      "Requirement already satisfied, skipping upgrade: kiwisolver>=1.0.1 in /opt/anaconda3/lib/python3.7/site-packages (from matplotlib->imgaug) (1.1.0)\n",
      "Requirement already satisfied, skipping upgrade: pyparsing!=2.0.4,!=2.1.2,!=2.1.6,>=2.0.1 in /opt/anaconda3/lib/python3.7/site-packages (from matplotlib->imgaug) (2.4.2)\n",
      "Requirement already satisfied, skipping upgrade: python-dateutil>=2.1 in /opt/anaconda3/lib/python3.7/site-packages (from matplotlib->imgaug) (2.8.0)\n",
      "Requirement already satisfied, skipping upgrade: PyWavelets>=0.4.0 in /opt/anaconda3/lib/python3.7/site-packages (from scikit-image>=0.14.2->imgaug) (1.0.3)\n",
      "Requirement already satisfied, skipping upgrade: networkx>=2.0 in /opt/anaconda3/lib/python3.7/site-packages (from scikit-image>=0.14.2->imgaug) (2.3)\n",
      "Requirement already satisfied, skipping upgrade: setuptools in /opt/anaconda3/lib/python3.7/site-packages (from kiwisolver>=1.0.1->matplotlib->imgaug) (41.4.0)\n",
      "Requirement already satisfied, skipping upgrade: decorator>=4.3.0 in /opt/anaconda3/lib/python3.7/site-packages (from networkx>=2.0->scikit-image>=0.14.2->imgaug) (4.4.0)\n",
      "Note: you may need to restart the kernel to use updated packages.\n"
     ]
    },
    {
     "name": "stderr",
     "output_type": "stream",
     "text": [
      "UsageError: Line magic function `%tensorflow_version` not found.\n"
     ]
    }
   ],
   "source": [
    "%pip install -U keras-segmentation opencv-python imgaug\n",
    "%tensorflow_version 1.x #TODO test with 2.x (which should be smarter un GPU/TPU usage)\n",
    "import keras_segmentation as ks"
   ]
  },
  {
   "cell_type": "code",
   "execution_count": 6,
   "metadata": {
    "colab": {
     "base_uri": "https://localhost:8080/",
     "height": 68
    },
    "colab_type": "code",
    "executionInfo": {
     "elapsed": 4006,
     "status": "ok",
     "timestamp": 1576083421294,
     "user": {
      "displayName": "Valentin Viennot",
      "photoUrl": "https://lh3.googleusercontent.com/a-/AAuE7mBFLJ79CAxyL_8r2U4xMZmocG_hr740b8sCBY5q_5Y=s64",
      "userId": "15345576953373911291"
     },
     "user_tz": -60
    },
    "id": "2SX7_DfgxHXl",
    "outputId": "9927fd47-c8e7-4b64-9f93-bd4e24e8d4e5"
   },
   "outputs": [
    {
     "name": "stdout",
     "output_type": "stream",
     "text": [
      "\u001b[34mtrain_groundtruth\u001b[m\u001b[m      \u001b[34mval_groundtruth\u001b[m\u001b[m        vgg_unet_1_config.json\r\n",
      "\u001b[34mtrain_images\u001b[m\u001b[m           \u001b[34mval_images\u001b[m\u001b[m\r\n"
     ]
    }
   ],
   "source": [
    "# data has been splitted manually between train and validation sets\n",
    "import sys\n",
    "IN_COLAB = 'google.colab' in sys.modules\n",
    "if (IN_COLAB):\n",
    "    from google.colab import drive\n",
    "    drive.mount('/content/gdrive')\n",
    "    PATH_OF_DATA= '/content/gdrive/\"My Drive\"/Documents/EPFL/ML_Project_2/data'\n",
    "    IMAGES_SUFFIX='images'\n",
    "    GD_SUFFIX='groundtruth'\n",
    "    TRAIN_PREFIX='train'\n",
    "    VALIDATION_PREFIX='val'\n",
    "else:\n",
    "    PATH_OF_DATA= './data'\n",
    "    IMAGES_SUFFIX='images'\n",
    "    GD_SUFFIX='groundtruth'\n",
    "    TRAIN_PREFIX='train'\n",
    "    VALIDATION_PREFIX='val'\n",
    "!ls {PATH_OF_DATA}"
   ]
  },
  {
   "cell_type": "code",
   "execution_count": 3,
   "metadata": {
    "colab": {},
    "colab_type": "code",
    "id": "q3RwT8BMxHXp"
   },
   "outputs": [],
   "source": [
    "import imgaug as ia\n",
    "import imgaug.augmenters as iaa\n",
    "# TODO: add augmentations\n",
    "seq = iaa.Sequential([\n",
    "    iaa.Crop(px=(0, 16)), # crop images from each side by 0 to 16px (randomly chosen)\n",
    "    iaa.Fliplr(0.5), # horizontally flip 50% of the images\n",
    "    iaa.GaussianBlur(sigma=(0, 3.0)) # blur images with a sigma of 0 to 3.0\n",
    "])\n",
    "\n",
    "# source: https://divamgupta.com/image-segmentation/2019/06/06/deep-learning-semantic-segmentation-keras.html\n",
    "def augment_seg( img , seg  ):\n",
    "    aug_det = seq.to_deterministic() \n",
    "    image_aug = aug_det.augment_image( img )\n",
    "\n",
    "    segmap = ia.SegmentationMapOnImage( seg , nb_classes=np.max(seg)+1 , shape=img.shape )\n",
    "    segmap_aug = aug_det.augment_segmentation_maps( segmap )\n",
    "    segmap_aug = segmap_aug.get_arr_int()\n",
    "\n",
    "    return image_aug , segmap_aug"
   ]
  },
  {
   "cell_type": "code",
   "execution_count": 4,
   "metadata": {
    "colab": {
     "base_uri": "https://localhost:8080/",
     "height": 292
    },
    "colab_type": "code",
    "executionInfo": {
     "elapsed": 872,
     "status": "ok",
     "timestamp": 1576083038970,
     "user": {
      "displayName": "Valentin Viennot",
      "photoUrl": "https://lh3.googleusercontent.com/a-/AAuE7mBFLJ79CAxyL_8r2U4xMZmocG_hr740b8sCBY5q_5Y=s64",
      "userId": "15345576953373911291"
     },
     "user_tz": -60
    },
    "id": "z2ZmBwnB1V2V",
    "outputId": "00842403-64dc-4b73-81d5-aa030d1df3b2"
   },
   "outputs": [
    {
     "name": "stderr",
     "output_type": "stream",
     "text": [
      "Using TensorFlow backend.\n"
     ]
    },
    {
     "name": "stdout",
     "output_type": "stream",
     "text": [
      "WARNING:tensorflow:From /opt/anaconda3/lib/python3.7/site-packages/keras/backend/tensorflow_backend.py:74: The name tf.get_default_graph is deprecated. Please use tf.compat.v1.get_default_graph instead.\n",
      "\n",
      "WARNING:tensorflow:From /opt/anaconda3/lib/python3.7/site-packages/keras/backend/tensorflow_backend.py:517: The name tf.placeholder is deprecated. Please use tf.compat.v1.placeholder instead.\n",
      "\n",
      "WARNING:tensorflow:From /opt/anaconda3/lib/python3.7/site-packages/keras/backend/tensorflow_backend.py:4138: The name tf.random_uniform is deprecated. Please use tf.random.uniform instead.\n",
      "\n",
      "WARNING:tensorflow:From /opt/anaconda3/lib/python3.7/site-packages/keras/backend/tensorflow_backend.py:133: The name tf.placeholder_with_default is deprecated. Please use tf.compat.v1.placeholder_with_default instead.\n",
      "\n",
      "WARNING:tensorflow:From /opt/anaconda3/lib/python3.7/site-packages/keras/backend/tensorflow_backend.py:3445: calling dropout (from tensorflow.python.ops.nn_ops) with keep_prob is deprecated and will be removed in a future version.\n",
      "Instructions for updating:\n",
      "Please use `rate` instead of `keep_prob`. Rate should be set to `rate = 1 - keep_prob`.\n",
      "WARNING:tensorflow:From /opt/anaconda3/lib/python3.7/site-packages/keras/backend/tensorflow_backend.py:3976: The name tf.nn.max_pool is deprecated. Please use tf.nn.max_pool2d instead.\n",
      "\n",
      "WARNING:tensorflow:From /opt/anaconda3/lib/python3.7/site-packages/keras/backend/tensorflow_backend.py:2018: The name tf.image.resize_nearest_neighbor is deprecated. Please use tf.compat.v1.image.resize_nearest_neighbor instead.\n",
      "\n"
     ]
    }
   ],
   "source": [
    "#model = ks.models.unet.vgg_unet(n_classes=2, input_height=400, input_width=400) #TODO: try to use builtin model with cropped images\n",
    "from keras.models import *\n",
    "from keras.layers import *\n",
    "n_classes = 2\n",
    "input_width = 400\n",
    "input_height = input_width\n",
    "\n",
    "img_input = Input(shape=(input_height, input_width, 3))\n",
    "\n",
    "conv1 = Conv2D(32, (3, 3), activation='relu', padding='same')(img_input)\n",
    "conv1 = Dropout(0.2)(conv1)\n",
    "conv1 = Conv2D(32, (3, 3), activation='relu', padding='same')(conv1)\n",
    "pool1 = MaxPooling2D((2, 2))(conv1)\n",
    "\n",
    "conv2 = Conv2D(64, (3, 3), activation='relu', padding='same')(pool1)\n",
    "conv2 = Dropout(0.2)(conv2)\n",
    "conv2 = Conv2D(64, (3, 3), activation='relu', padding='same')(conv2)\n",
    "pool2 = MaxPooling2D((2, 2))(conv2)\n",
    "\n",
    "conv3 = Conv2D(128, (3, 3), activation='relu', padding='same')(pool2)\n",
    "conv3 = Dropout(0.2)(conv3)\n",
    "conv3 = Conv2D(128, (3, 3), activation='relu', padding='same')(conv3)\n",
    "\n",
    "up1 = concatenate([UpSampling2D((2, 2))(conv3), conv2], axis=-1)\n",
    "conv4 = Conv2D(64, (3, 3), activation='relu', padding='same')(up1)\n",
    "conv4 = Dropout(0.2)(conv4)\n",
    "conv4 = Conv2D(64, (3, 3), activation='relu', padding='same')(conv4)\n",
    "\n",
    "up2 = concatenate([UpSampling2D((2, 2))(conv4), conv1], axis=-1)\n",
    "conv5 = Conv2D(32, (3, 3), activation='relu', padding='same')(up2)\n",
    "conv5 = Dropout(0.2)(conv5)\n",
    "conv5 = Conv2D(32, (3, 3), activation='relu', padding='same')(conv5)\n",
    "\n",
    "out = Conv2D(n_classes, (1, 1), padding='same')(conv5)\n",
    "\n",
    "from keras_segmentation.models.model_utils import get_segmentation_model\n",
    "\n",
    "model = get_segmentation_model(img_input ,  out) # this would build the segmentation model"
   ]
  },
  {
   "cell_type": "code",
   "execution_count": 5,
   "metadata": {
    "colab": {
     "base_uri": "https://localhost:8080/",
     "height": 354
    },
    "colab_type": "code",
    "executionInfo": {
     "elapsed": 979,
     "status": "error",
     "timestamp": 1576083425395,
     "user": {
      "displayName": "Valentin Viennot",
      "photoUrl": "https://lh3.googleusercontent.com/a-/AAuE7mBFLJ79CAxyL_8r2U4xMZmocG_hr740b8sCBY5q_5Y=s64",
      "userId": "15345576953373911291"
     },
     "user_tz": -60
    },
    "id": "nf79DGA_2DeD",
    "outputId": "bcba6735-65e8-41fc-b08f-5da9e94b3293"
   },
   "outputs": [
    {
     "name": "stdout",
     "output_type": "stream",
     "text": [
      "WARNING:tensorflow:From /opt/anaconda3/lib/python3.7/site-packages/keras/optimizers.py:790: The name tf.train.Optimizer is deprecated. Please use tf.compat.v1.train.Optimizer instead.\n",
      "\n",
      "WARNING:tensorflow:From /opt/anaconda3/lib/python3.7/site-packages/keras/backend/tensorflow_backend.py:3295: The name tf.log is deprecated. Please use tf.math.log instead.\n",
      "\n"
     ]
    },
    {
     "name": "stderr",
     "output_type": "stream",
     "text": [
      "  0%|          | 0/79 [00:00<?, ?it/s]"
     ]
    },
    {
     "name": "stdout",
     "output_type": "stream",
     "text": [
      "Verifying train dataset\n"
     ]
    },
    {
     "name": "stderr",
     "output_type": "stream",
     "text": [
      "\n"
     ]
    },
    {
     "ename": "AssertionError",
     "evalue": "The pixel values of seg image should be from 0 to 1 . Found pixel value 237",
     "output_type": "error",
     "traceback": [
      "\u001b[0;31m---------------------------------------------------------------------------\u001b[0m",
      "\u001b[0;31mAssertionError\u001b[0m                            Traceback (most recent call last)",
      "\u001b[0;32m<ipython-input-5-12514f49eb9d>\u001b[0m in \u001b[0;36m<module>\u001b[0;34m\u001b[0m\n\u001b[1;32m      2\u001b[0m     \u001b[0mtrain_images\u001b[0m \u001b[0;34m=\u001b[0m  \u001b[0;34mf'{PATH_OF_DATA}/{TRAIN_PREFIX}_{IMAGES_SUFFIX}'\u001b[0m\u001b[0;34m,\u001b[0m\u001b[0;34m\u001b[0m\u001b[0;34m\u001b[0m\u001b[0m\n\u001b[1;32m      3\u001b[0m     \u001b[0mtrain_annotations\u001b[0m \u001b[0;34m=\u001b[0m \u001b[0;34mf'{PATH_OF_DATA}/{TRAIN_PREFIX}_{GD_SUFFIX}'\u001b[0m\u001b[0;34m,\u001b[0m\u001b[0;34m\u001b[0m\u001b[0;34m\u001b[0m\u001b[0m\n\u001b[0;32m----> 4\u001b[0;31m     \u001b[0mcheckpoints_path\u001b[0m \u001b[0;34m=\u001b[0m \u001b[0;34mf'{PATH_OF_DATA}/vgg_unet_1'\u001b[0m \u001b[0;34m,\u001b[0m \u001b[0mepochs\u001b[0m\u001b[0;34m=\u001b[0m\u001b[0;36m5\u001b[0m\u001b[0;34m\u001b[0m\u001b[0;34m\u001b[0m\u001b[0m\n\u001b[0m\u001b[1;32m      5\u001b[0m )\n",
      "\u001b[0;32m/opt/anaconda3/lib/python3.7/site-packages/keras_segmentation/train.py\u001b[0m in \u001b[0;36mtrain\u001b[0;34m(model, train_images, train_annotations, input_height, input_width, n_classes, verify_dataset, checkpoints_path, epochs, batch_size, validate, val_images, val_annotations, val_batch_size, auto_resume_checkpoint, load_weights, steps_per_epoch, optimizer_name)\u001b[0m\n\u001b[1;32m     88\u001b[0m         \u001b[0;32mif\u001b[0m \u001b[0mverify_dataset\u001b[0m\u001b[0;34m:\u001b[0m\u001b[0;34m\u001b[0m\u001b[0;34m\u001b[0m\u001b[0m\n\u001b[1;32m     89\u001b[0m                 \u001b[0mprint\u001b[0m\u001b[0;34m(\u001b[0m\u001b[0;34m\"Verifying train dataset\"\u001b[0m\u001b[0;34m)\u001b[0m\u001b[0;34m\u001b[0m\u001b[0;34m\u001b[0m\u001b[0m\n\u001b[0;32m---> 90\u001b[0;31m                 \u001b[0mverify_segmentation_dataset\u001b[0m\u001b[0;34m(\u001b[0m \u001b[0mtrain_images\u001b[0m \u001b[0;34m,\u001b[0m \u001b[0mtrain_annotations\u001b[0m \u001b[0;34m,\u001b[0m \u001b[0mn_classes\u001b[0m \u001b[0;34m)\u001b[0m\u001b[0;34m\u001b[0m\u001b[0;34m\u001b[0m\u001b[0m\n\u001b[0m\u001b[1;32m     91\u001b[0m                 \u001b[0;32mif\u001b[0m \u001b[0mvalidate\u001b[0m\u001b[0;34m:\u001b[0m\u001b[0;34m\u001b[0m\u001b[0;34m\u001b[0m\u001b[0m\n\u001b[1;32m     92\u001b[0m                         \u001b[0mprint\u001b[0m\u001b[0;34m(\u001b[0m\u001b[0;34m\"Verifying val dataset\"\u001b[0m\u001b[0;34m)\u001b[0m\u001b[0;34m\u001b[0m\u001b[0;34m\u001b[0m\u001b[0m\n",
      "\u001b[0;32m/opt/anaconda3/lib/python3.7/site-packages/keras_segmentation/data_utils/data_loader.py\u001b[0m in \u001b[0;36mverify_segmentation_dataset\u001b[0;34m(images_path, segs_path, n_classes)\u001b[0m\n\u001b[1;32m    104\u001b[0m \u001b[0;34m\u001b[0m\u001b[0m\n\u001b[1;32m    105\u001b[0m                 \u001b[0;32massert\u001b[0m \u001b[0;34m(\u001b[0m \u001b[0mimg\u001b[0m\u001b[0;34m.\u001b[0m\u001b[0mshape\u001b[0m\u001b[0;34m[\u001b[0m\u001b[0;36m0\u001b[0m\u001b[0;34m]\u001b[0m\u001b[0;34m==\u001b[0m\u001b[0mseg\u001b[0m\u001b[0;34m.\u001b[0m\u001b[0mshape\u001b[0m\u001b[0;34m[\u001b[0m\u001b[0;36m0\u001b[0m\u001b[0;34m]\u001b[0m \u001b[0;32mand\u001b[0m \u001b[0mimg\u001b[0m\u001b[0;34m.\u001b[0m\u001b[0mshape\u001b[0m\u001b[0;34m[\u001b[0m\u001b[0;36m1\u001b[0m\u001b[0;34m]\u001b[0m\u001b[0;34m==\u001b[0m\u001b[0mseg\u001b[0m\u001b[0;34m.\u001b[0m\u001b[0mshape\u001b[0m\u001b[0;34m[\u001b[0m\u001b[0;36m1\u001b[0m\u001b[0;34m]\u001b[0m \u001b[0;34m)\u001b[0m \u001b[0;34m,\u001b[0m \u001b[0;34m\"The size of image and the annotation does not match or they are corrupt \"\u001b[0m\u001b[0;34m+\u001b[0m \u001b[0mim_fn\u001b[0m \u001b[0;34m+\u001b[0m \u001b[0;34m\" \"\u001b[0m \u001b[0;34m+\u001b[0m \u001b[0mseg_fn\u001b[0m\u001b[0;34m\u001b[0m\u001b[0;34m\u001b[0m\u001b[0m\n\u001b[0;32m--> 106\u001b[0;31m                 \u001b[0;32massert\u001b[0m \u001b[0;34m(\u001b[0m \u001b[0mnp\u001b[0m\u001b[0;34m.\u001b[0m\u001b[0mmax\u001b[0m\u001b[0;34m(\u001b[0m\u001b[0mseg\u001b[0m\u001b[0;34m[\u001b[0m\u001b[0;34m:\u001b[0m\u001b[0;34m,\u001b[0m\u001b[0;34m:\u001b[0m\u001b[0;34m,\u001b[0m\u001b[0;36m0\u001b[0m\u001b[0;34m]\u001b[0m\u001b[0;34m)\u001b[0m \u001b[0;34m<\u001b[0m \u001b[0mn_classes\u001b[0m\u001b[0;34m)\u001b[0m \u001b[0;34m,\u001b[0m \u001b[0;34m\"The pixel values of seg image should be from 0 to \"\u001b[0m\u001b[0;34m+\u001b[0m\u001b[0mstr\u001b[0m\u001b[0;34m(\u001b[0m\u001b[0mn_classes\u001b[0m\u001b[0;34m-\u001b[0m\u001b[0;36m1\u001b[0m\u001b[0;34m)\u001b[0m \u001b[0;34m+\u001b[0m \u001b[0;34m\" . Found pixel value \"\u001b[0m\u001b[0;34m+\u001b[0m\u001b[0mstr\u001b[0m\u001b[0;34m(\u001b[0m\u001b[0mnp\u001b[0m\u001b[0;34m.\u001b[0m\u001b[0mmax\u001b[0m\u001b[0;34m(\u001b[0m\u001b[0mseg\u001b[0m\u001b[0;34m[\u001b[0m\u001b[0;34m:\u001b[0m\u001b[0;34m,\u001b[0m\u001b[0;34m:\u001b[0m\u001b[0;34m,\u001b[0m\u001b[0;36m0\u001b[0m\u001b[0;34m]\u001b[0m\u001b[0;34m)\u001b[0m\u001b[0;34m)\u001b[0m\u001b[0;34m\u001b[0m\u001b[0;34m\u001b[0m\u001b[0m\n\u001b[0m\u001b[1;32m    107\u001b[0m \u001b[0;34m\u001b[0m\u001b[0m\n\u001b[1;32m    108\u001b[0m         \u001b[0mprint\u001b[0m\u001b[0;34m(\u001b[0m\u001b[0;34m\"Dataset verified! \"\u001b[0m\u001b[0;34m)\u001b[0m\u001b[0;34m\u001b[0m\u001b[0;34m\u001b[0m\u001b[0m\n",
      "\u001b[0;31mAssertionError\u001b[0m: The pixel values of seg image should be from 0 to 1 . Found pixel value 237"
     ]
    }
   ],
   "source": [
    "model.train( \n",
    "    train_images =  f'{PATH_OF_DATA}/{TRAIN_PREFIX}_{IMAGES_SUFFIX}',\n",
    "    train_annotations = f'{PATH_OF_DATA}/{TRAIN_PREFIX}_{GD_SUFFIX}',\n",
    "    checkpoints_path = f'{PATH_OF_DATA}/vgg_unet_1' , epochs=5\n",
    ")"
   ]
  },
  {
   "cell_type": "code",
   "execution_count": 0,
   "metadata": {
    "colab": {},
    "colab_type": "code",
    "id": "6XIOvJW94Hdn"
   },
   "outputs": [],
   "source": []
  }
 ],
 "metadata": {
  "colab": {
   "collapsed_sections": [],
   "name": "CNN_Classifier.ipynb",
   "provenance": []
  },
  "kernelspec": {
   "display_name": "Python 3",
   "language": "python",
   "name": "python3"
  },
  "language_info": {
   "codemirror_mode": {
    "name": "ipython",
    "version": 3
   },
   "file_extension": ".py",
   "mimetype": "text/x-python",
   "name": "python",
   "nbconvert_exporter": "python",
   "pygments_lexer": "ipython3",
   "version": "3.7.4"
  }
 },
 "nbformat": 4,
 "nbformat_minor": 1
}
