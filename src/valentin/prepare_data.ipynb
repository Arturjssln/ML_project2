{
 "cells": [
  {
   "cell_type": "code",
   "execution_count": 1,
   "metadata": {},
   "outputs": [
    {
     "name": "stdout",
     "output_type": "stream",
     "text": [
      "Requirement already up-to-date: keras-segmentation in /opt/anaconda3/lib/python3.7/site-packages (0.2.0)\n",
      "Requirement already up-to-date: opencv-python in /opt/anaconda3/lib/python3.7/site-packages (4.1.2.30)\n",
      "Requirement already up-to-date: imgaug in /opt/anaconda3/lib/python3.7/site-packages (0.3.0)\n",
      "Requirement already up-to-date: progress in /opt/anaconda3/lib/python3.7/site-packages (1.5)\n",
      "Requirement already satisfied, skipping upgrade: numpy>=1.14.5 in /opt/anaconda3/lib/python3.7/site-packages (from opencv-python) (1.17.2)\n",
      "Requirement already satisfied, skipping upgrade: imageio in /opt/anaconda3/lib/python3.7/site-packages (from imgaug) (2.6.0)\n",
      "Requirement already satisfied, skipping upgrade: scipy in /opt/anaconda3/lib/python3.7/site-packages (from imgaug) (1.3.1)\n",
      "Requirement already satisfied, skipping upgrade: scikit-image>=0.14.2 in /opt/anaconda3/lib/python3.7/site-packages (from imgaug) (0.15.0)\n",
      "Requirement already satisfied, skipping upgrade: Pillow in /opt/anaconda3/lib/python3.7/site-packages (from imgaug) (6.2.0)\n",
      "Requirement already satisfied, skipping upgrade: six in /opt/anaconda3/lib/python3.7/site-packages (from imgaug) (1.12.0)\n",
      "Requirement already satisfied, skipping upgrade: opencv-python-headless in /opt/anaconda3/lib/python3.7/site-packages (from imgaug) (4.1.2.30)\n",
      "Requirement already satisfied, skipping upgrade: Shapely in /opt/anaconda3/lib/python3.7/site-packages (from imgaug) (1.6.4.post2)\n",
      "Requirement already satisfied, skipping upgrade: matplotlib in /opt/anaconda3/lib/python3.7/site-packages (from imgaug) (3.1.1)\n",
      "Requirement already satisfied, skipping upgrade: PyWavelets>=0.4.0 in /opt/anaconda3/lib/python3.7/site-packages (from scikit-image>=0.14.2->imgaug) (1.0.3)\n",
      "Requirement already satisfied, skipping upgrade: networkx>=2.0 in /opt/anaconda3/lib/python3.7/site-packages (from scikit-image>=0.14.2->imgaug) (2.3)\n",
      "Requirement already satisfied, skipping upgrade: cycler>=0.10 in /opt/anaconda3/lib/python3.7/site-packages (from matplotlib->imgaug) (0.10.0)\n",
      "Requirement already satisfied, skipping upgrade: kiwisolver>=1.0.1 in /opt/anaconda3/lib/python3.7/site-packages (from matplotlib->imgaug) (1.1.0)\n",
      "Requirement already satisfied, skipping upgrade: pyparsing!=2.0.4,!=2.1.2,!=2.1.6,>=2.0.1 in /opt/anaconda3/lib/python3.7/site-packages (from matplotlib->imgaug) (2.4.2)\n",
      "Requirement already satisfied, skipping upgrade: python-dateutil>=2.1 in /opt/anaconda3/lib/python3.7/site-packages (from matplotlib->imgaug) (2.8.0)\n",
      "Requirement already satisfied, skipping upgrade: decorator>=4.3.0 in /opt/anaconda3/lib/python3.7/site-packages (from networkx>=2.0->scikit-image>=0.14.2->imgaug) (4.4.0)\n",
      "Requirement already satisfied, skipping upgrade: setuptools in /opt/anaconda3/lib/python3.7/site-packages (from kiwisolver>=1.0.1->matplotlib->imgaug) (41.4.0)\n",
      "Note: you may need to restart the kernel to use updated packages.\n"
     ]
    }
   ],
   "source": [
    "%pip install -U keras-segmentation opencv-python imgaug progress\n",
    "\n",
    "PATH_OF_DATA= './data'\n",
    "IMAGES_SUFFIX='images'\n",
    "GD_SUFFIX='groundtruth'\n",
    "TRAIN_PREFIX='train'\n",
    "VALIDATION_PREFIX='val'"
   ]
  },
  {
   "cell_type": "code",
   "execution_count": 2,
   "metadata": {},
   "outputs": [],
   "source": [
    "import imgaug as ia\n",
    "import imgaug.augmenters as iaa\n",
    "# TODO: add augmentations\n",
    "seq = iaa.Sequential([\n",
    "    iaa.Crop(px=(0, 16)), # crop images from each side by 0 to 16px (randomly chosen)\n",
    "    iaa.Fliplr(0.5), # horizontally flip 50% of the images\n",
    "    iaa.GaussianBlur(sigma=(0, 3.0)) # blur images with a sigma of 0 to 3.0\n",
    "])\n",
    "\n",
    "# source: https://divamgupta.com/image-segmentation/2019/06/06/deep-learning-semantic-segmentation-keras.html\n",
    "def augment_seg( img , seg  ):\n",
    "    aug_det = seq.to_deterministic() \n",
    "    image_aug = aug_det.augment_image( img )\n",
    "\n",
    "    segmap = ia.SegmentationMapOnImage( seg , nb_classes=np.max(seg)+1 , shape=img.shape )\n",
    "    segmap_aug = aug_det.augment_segmentation_maps( segmap )\n",
    "    segmap_aug = segmap_aug.get_arr_int()\n",
    "\n",
    "    return image_aug , segmap_aug"
   ]
  },
  {
   "cell_type": "code",
   "execution_count": 67,
   "metadata": {},
   "outputs": [
    {
     "name": "stdout",
     "output_type": "stream",
     "text": [
      "[1 1 1 ... 1 1 1]\n"
     ]
    }
   ],
   "source": [
    "import os\n",
    "from helpers import *\n",
    "\n",
    "PREPPED_PREFIX = 'prepped'\n",
    "def prepped_path(path, suffix=None):\n",
    "    if suffix is None:\n",
    "        path = prepped_path(path, GD_SUFFIX)\n",
    "        path = prepped_path(path, IMAGES_SUFFIX)\n",
    "        return path\n",
    "    return path.replace(suffix, f'{PREPPED_PREFIX}_{suffix}')\n",
    "\n",
    "# Loaded a set of images\n",
    "TRAIN_IMG=0\n",
    "VAL_IMG=1\n",
    "TRAIN_GD=2\n",
    "VAL_GD=3\n",
    "SETS = [TRAIN_IMG, VAL_IMG, TRAIN_GD, VAL_GD]\n",
    "\n",
    "PATHS = [None]*len(SETS)\n",
    "PATHS[TRAIN_IMG] = f'{PATH_OF_DATA}/{TRAIN_PREFIX}_{IMAGES_SUFFIX}/'\n",
    "PATHS[VAL_IMG] = f'{PATH_OF_DATA}/{VALIDATION_PREFIX}_{IMAGES_SUFFIX}/'\n",
    "PATHS[TRAIN_GD] = f'{PATH_OF_DATA}/{TRAIN_PREFIX}_{GD_SUFFIX}/'\n",
    "PATHS[VAL_GD] = f'{PATH_OF_DATA}/{VALIDATION_PREFIX}_{GD_SUFFIX}/'\n",
    "\n",
    "# Clean .DS_store to avoid troubles listing images\n",
    "for label in SETS:\n",
    "    for path in [PATHS[label], prepped_path(PATHS[label])]:\n",
    "        !rm -f {path}.DS_store\n",
    "\n",
    "# Load images\n",
    "imgs = [None]*len(SETS)\n",
    "for label in SETS:\n",
    "    files = os.listdir(PATHS[label])\n",
    "    imgs[label] = [img_float_to_uint8(load_image(PATHS[label] + files[i])) for i in range(len(files))]\n",
    "    \n",
    "# Convert groundtruth between 0 and 1\n",
    "GD = [TRAIN_GD, VAL_GD]\n",
    "for label in GD:\n",
    "    for i, img in enumerate(imgs[label]):\n",
    "        #imgs[label][i] = img_float_to_uint8(img)\n",
    "        imgs[label][i][img>0] = 1.\n",
    "        \n",
    "print(imgs[TRAIN_GD][0][imgs[TRAIN_GD][0]!=0])"
   ]
  },
  {
   "cell_type": "code",
   "execution_count": 70,
   "metadata": {},
   "outputs": [],
   "source": [
    "import cv2\n",
    "from progress.bar import Bar\n",
    "\n",
    "# Clean previous prepped images and...\n",
    "# Write newly prepped images\n",
    "for label in SETS:\n",
    "    path=prepped_path(PATHS[label])\n",
    "    !rm -f {path}*\n",
    "    bar = Bar(f'Writing at {path}', max=len(imgs[label]))\n",
    "    for i, img in enumerate(imgs[label]):\n",
    "        cv2.imwrite(f'{path}img_{i}.png', cv2.cvtColor(img, cv2.COLOR_RGB2BGR))\n",
    "        bar.next()\n",
    "    bar.finish()"
   ]
  },
  {
   "cell_type": "code",
   "execution_count": 71,
   "metadata": {},
   "outputs": [
    {
     "name": "stdout",
     "output_type": "stream",
     "text": [
      "[1 1 1 ... 1 1 1]\n",
      "--\n",
      "[[1 1 1]\n",
      " [1 1 1]\n",
      " [1 1 1]\n",
      " ...\n",
      " [1 1 1]\n",
      " [1 1 1]\n",
      " [1 1 1]]\n"
     ]
    }
   ],
   "source": [
    "#print(imgs[TRAIN_IMG][0])\n",
    "#print(img_float_to_uint8(mpimg.imread(prepped_path(PATHS[TRAIN_IMG])+'img_0.png')))\n",
    "print(imgs[TRAIN_GD][0][imgs[TRAIN_GD][0]!=0])\n",
    "print('--')\n",
    "print(cv2.imread(prepped_path(PATHS[TRAIN_GD])+'img_0.png')[imgs[TRAIN_GD][0]!=0])"
   ]
  },
  {
   "cell_type": "code",
   "execution_count": null,
   "metadata": {},
   "outputs": [],
   "source": []
  }
 ],
 "metadata": {
  "kernelspec": {
   "display_name": "Python 3",
   "language": "python",
   "name": "python3"
  },
  "language_info": {
   "codemirror_mode": {
    "name": "ipython",
    "version": 3
   },
   "file_extension": ".py",
   "mimetype": "text/x-python",
   "name": "python",
   "nbconvert_exporter": "python",
   "pygments_lexer": "ipython3",
   "version": "3.7.4"
  }
 },
 "nbformat": 4,
 "nbformat_minor": 2
}
