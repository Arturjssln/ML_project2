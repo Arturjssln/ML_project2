{
 "cells": [
  {
   "cell_type": "code",
   "execution_count": 1,
   "metadata": {
    "collapsed": false
   },
   "outputs": [
    {
     "name": "stdout",
     "output_type": "stream",
     "text": [
      "Loading 100 images\n",
      "Loading 100 images\n"
     ]
    }
   ],
   "source": [
    "import numpy as np\n",
    "from helpers import *\n",
    "from cross_validation import *\n",
    "\n",
    "# Load the training set\n",
    "root_dir = \"training/\"\n",
    "\n",
    "image_dir = root_dir + \"images/\"\n",
    "files = os.listdir(image_dir)\n",
    "n = len(files)\n",
    "print(\"Loading \" + str(n) + \" images\")\n",
    "imgs = np.asarray([load_image(image_dir + files[i]) for i in range(n)])\n",
    "\n",
    "gt_dir = root_dir + \"groundtruth/\"\n",
    "print(\"Loading \" + str(n) + \" images\")\n",
    "gt_imgs = np.asarray([load_image(gt_dir + files[i]) for i in range(n)])"
   ]
  },
  {
   "cell_type": "code",
   "execution_count": 2,
   "metadata": {
    "collapsed": false
   },
   "outputs": [],
   "source": [
    "#from naive_model import NaiveModel\n",
    "#from cnn_model import CnnModel\n",
    "from logistic_model import LogisticModel\n",
    "\n",
    "#model = NaiveModel()\n",
    "#model = CnnModel()\n",
    "model = LogisticModel()"
   ]
  },
  {
   "cell_type": "code",
   "execution_count": 3,
   "metadata": {
    "collapsed": false,
    "scrolled": true
   },
   "outputs": [
    {
     "name": "stdout",
     "output_type": "stream",
     "text": [
      "Training completed\n",
      "Cross validation accuracy: 0.78528\n"
     ]
    }
   ],
   "source": [
    "np.random.seed(1) # Ensure reproducibility\n",
    "\n",
    "# Fast (partial) cross validation\n",
    "fast_cross_validation(model, gt_imgs, imgs, 4, 1)"
   ]
  },
  {
   "cell_type": "code",
   "execution_count": 4,
   "metadata": {
    "collapsed": false
   },
   "outputs": [
    {
     "name": "stdout",
     "output_type": "stream",
     "text": [
      "Training completed\n",
      "Accuracy: 0.78528\n",
      "Training completed\n",
      "Accuracy: 0.78848\n",
      "Training completed\n",
      "Accuracy: 0.786496\n",
      "Training completed\n",
      "Accuracy: 0.781184\n",
      "[ 0.78528   0.78848   0.786496  0.781184]\n",
      "Cross validation accuracy: 0.78536, std=0.00266787705864\n"
     ]
    }
   ],
   "source": [
    "np.random.seed(1) # Ensure reproducibility\n",
    "\n",
    "# Full k-fold cross validation\n",
    "k_fold_cross_validation(model, gt_imgs, imgs, 4, 1)"
   ]
  }
 ],
 "metadata": {
  "anaconda-cloud": {},
  "kernelspec": {
   "display_name": "Python [Root]",
   "language": "python",
   "name": "Python [Root]"
  },
  "language_info": {
   "codemirror_mode": {
    "name": "ipython",
    "version": 3
   },
   "file_extension": ".py",
   "mimetype": "text/x-python",
   "name": "python",
   "nbconvert_exporter": "python",
   "pygments_lexer": "ipython3",
   "version": "3.5.2"
  }
 },
 "nbformat": 4,
 "nbformat_minor": 0
}
